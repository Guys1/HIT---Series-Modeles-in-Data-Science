{
 "cells": [
  {
   "cell_type": "markdown",
   "metadata": {
    "id": "W4D6CUF5cmCe"
   },
   "source": [
    "# Serial Models in Data Science - Assignment 3"
   ]
  },
  {
   "cell_type": "markdown",
   "metadata": {},
   "source": [
    "## Part III - Bayesian Filtering"
   ]
  },
  {
   "cell_type": "markdown",
   "metadata": {},
   "source": [
    "### Submitted by: \n",
    "\n",
    "\n",
    "Tamar Entin - 210014411 <br/>\n",
    "Guy Shafir - 315941799"
   ]
  },
  {
   "cell_type": "markdown",
   "metadata": {},
   "source": [
    "### Table of Contents:\n"
   ]
  },
  {
   "cell_type": "markdown",
   "metadata": {},
   "source": [
    "<a id=\"home\"></a>\n",
    "\n",
    "\n",
    "| Section| Topic |\n",
    "| :- | :- |\n",
    "| 1 |  [KALMAN FILTER WITH BIASED NOISE](#KALMAN_FILTER) | \n",
    "| 2 |  [EXTENDED KALMAN FILTER](#EXTENDED) | \n",
    "| 3 |  [GRID BASED FILTER](#GRID_FILTER) | \n",
    "| 4 |  [REJECTION SAMPLING AND MONTE CARLO INTEGRATION](#MONTE_CARLO) | "
   ]
  },
  {
   "cell_type": "code",
   "execution_count": 1,
   "metadata": {},
   "outputs": [],
   "source": [
    "# Imports\n",
    "import numpy as np\n",
    "import matplotlib.pyplot as plt\n",
    "from scipy.stats import norm\n",
    "from random import random, gauss"
   ]
  },
  {
   "cell_type": "markdown",
   "metadata": {},
   "source": [
    "[Go to the beginning of the assignment](#home)\n",
    "<a id=\"KALMAN_FILTER\"></a><br/><br/>\n",
    "<u> KALMAN FILTER WITH BIASED NOISE </u>"
   ]
  },
  {
   "cell_type": "markdown",
   "metadata": {
    "id": "kHJpOEktQ9ik"
   },
   "source": [
    "\n",
    "#### Derive the Kalman filter equations for the following linear-Gaussian filtering model with nonzero mean noises:\n",
    "#### $$\\cases{x_k =Ax_{k-1}+q_{k-1}\\\\y_k=Hx_k+r_k}$$ where $q_{k-1}\\sim N\\left(m_q;\\, Q\\right)$ and $r_k\\sim N\\left(m_r;\\, R\\right)$.\n",
    "\n",
    "- It is recommended to use the two lemmas that were defined in task 2, section 3.\n",
    "\n"
   ]
  },
  {
   "cell_type": "markdown",
   "metadata": {},
   "source": [
    "Consider the following linear-Gaussian filtering model with nonzero mean noises:\n",
    "\n",
    "$$\n",
    "\\begin{cases} \n",
    "x_k = Ax_{k-1} + q_{k-1} \\\\ \n",
    "y_k = Hx_k + r_k \n",
    "\\end{cases} \\qquad \n",
    "\\begin{cases} \n",
    "q_{k-1} \\sim  N(m_q, Q) \\\\ \n",
    "r_k \\sim N(m_r, R) \n",
    "\\end{cases}\n",
    "$$\n",
    "\n",
    "Therefore, we have:\n",
    "\n",
    "$$\n",
    "\\begin{cases} \n",
    "x_k \\mid x_{k-1} \\sim N(Ax_{k-1} + m_q, Q) \\\\ \n",
    "y_k \\mid x_k \\sim N(H x_k + m_r, R) \n",
    "\\end{cases}\n",
    "$$\n",
    "\n",
    "The prediction and updating steps are performed by the following distributions:\n",
    "\n",
    "$$\n",
    "P(x_k \\mid y_k) = N(x_k \\mid m_k, p_k)\n",
    "$$\n",
    "\n",
    "$$\n",
    "P(x_k\\mid y_{k-1})=N(\\bar m_k;\\, \\bar p_k)⇒\\\\ \n",
    "P(x_k\\mid y_{k-1})=\\int P(x_k\\mid x_{k-1})P(x_{k-1}\\mid y_{k-1})\\, dx_{k-1}=N(Am_{k-1}+m_q;\\, Ap_{k-1}A^T +Q)\n",
    "$$\n",
    "\n",
    "The prediction step is given by:\n",
    "\n",
    "$$\n",
    "\\begin{cases} \n",
    "\\bar m_k = A m_{k-1} + m_{q} \\\\ \n",
    "\\bar p_k = A P_{k-1} A^T + Q \n",
    "\\end{cases}\n",
    "$$\n",
    "\n",
    "For the update step, we can use **Lemma 1** to write the joint distribution of $(x_k, y_k)$ as:\n",
    "\n",
    "$$\n",
    "\\begin{pmatrix} \n",
    "x_k \\\\ y_k \n",
    "\\end{pmatrix} \n",
    "\\sim \n",
    "N\\left(\n",
    "\\begin{pmatrix} \n",
    "\\bar m_k \\\\ \n",
    "H \\bar m_k + m_r \n",
    "\\end{pmatrix}; \n",
    "\\begin{pmatrix} \n",
    "\\bar p_k & \\bar p_k H^T \\\\ \n",
    "H \\bar p_k & H \\bar p_k H^T + R \n",
    "\\end{pmatrix}\n",
    "\\right)\n",
    "$$\n",
    "\n",
    "Now, we can use **Lemma 2** to find the conditional distribution $x_k \\mid y_k$. To do this, we first need to identify $a, b, A, B$ and $C$ in the joint distribution:\n",
    "\n",
    "$$\n",
    "\\begin{cases} \n",
    "a = \\bar m_k \\\\ \n",
    "b = H \\bar m_k + m_r \\\\ \n",
    "A = \\bar p_k \\\\ \n",
    "B = H \\bar p_k H^T + R \\\\ \n",
    "C = \\bar p_k H^T \n",
    "\\end{cases}\n",
    "$$\n",
    "\n",
    "Using these values, we can write the conditional distribution $x_k \\mid y_k$ as:\n",
    "\n",
    "$$\n",
    "x_k \\mid y_k \n",
    "\\sim \n",
    "N\\left(\n",
    "\\bar m_k + \\bar p_k H^T\\left(H\\bar p_k H^T + R\\right)^{-1}\\left(y_k - H \\bar m_k - m_r\\right),\n",
    "\\bar p_k - \\bar p_k H^T\\left(H \\bar p_k H^T + R\\right)^{-1} H \\bar p_k\n",
    "\\right) \n",
    "$$ \n",
    "\n",
    "By simplifying the above expression, we obtain the update equations:\n",
    "\n",
    "$$\n",
    "\\begin{cases}\n",
    "V_k = y_k-H\\bar m_k - m_r\\\\\n",
    "S_k=H\\bar p_kH^T +R_k\\\\\n",
    "K_k = \\bar p_k H^T S_k^{-1}\n",
    "\\end{cases}\\, ;\n",
    "\\qquad \n",
    "\\begin{cases}\n",
    "m_k = \\bar m_k + K_k V_k\\\\\n",
    "p_k = \\bar p_k - K_k S_k K_k^T\n",
    "\\end{cases}\n",
    "$$\n"
   ]
  },
  {
   "cell_type": "markdown",
   "metadata": {},
   "source": [
    "\n",
    "[Go to the beginning of the assignment](#home)\n",
    "<a id=\"EXTENDED\"></a><br/><br/>\n",
    "<u> EXTENDED KALMAN FILTER </u>\n"
   ]
  },
  {
   "cell_type": "markdown",
   "metadata": {
    "id": "3vhEVaF2Rbvg"
   },
   "source": [
    "Consider the following non-linear space model:\n",
    "$$\\cases{x_k =x_{k-1}-0.01\\sin\\left(x_{k-1}\\right)+q_{k-1}\\\\y_k=0.5\\sin\\left(2x_k\\right)+r_k}$$ where $q_{k-1}\\sim N\\left(m_q;\\, Q\\right)$ and $r_k\\sim N\\left(m_r;\\, R\\right)$."
   ]
  },
  {
   "cell_type": "markdown",
   "metadata": {},
   "source": [
    "#### 1. Write the extended Kalman filter obtained by the **Taylor** linearisation.\n"
   ]
  },
  {
   "cell_type": "markdown",
   "metadata": {},
   "source": [
    "$$\n",
    "x_{k}=\\underbrace{x_{k-1}-0.01 \\sin \\left(x_{k-1}\\right)}_{f\\left(x_{k-1}\\right)\n",
    "}+q_{k-1}  \\\\\n",
    "y_{k} =\\underbrace{0.5 \\sin \\left(2 x_{k}\\right)}_{h\\left(x_{k}\\right)}+r_{k}\n",
    "$$\n",
    "\n",
    "When:\n",
    "\n",
    "$$\n",
    "q_{k-1} \\sim \\mathcal{N}(0, \\underbrace{0.01^{2}}_{Q_{k-1}}) \\text {    and    } r_{k} \\sim N(0, \\underbrace{0.02^2}_{R_{k}}) \\\\\n",
    "$$\n",
    "\n",
    "For the purpose of the prediction we will derive f(x):\n",
    "$$f'(x)=F(x)=1-0.01cos(x)$$\n",
    "For the purpose of the update we will derive h(x)\n",
    "$$h'(x)=H(x)=cos(2x)$$\n",
    "\n",
    "Prediction step:\n",
    "$$\\cases{m_k^-=f(m_{k-1})=m_{k-1}-0.01sin(m_{k-1})\\\\p_k^-=F(m_{k-1})p_{k-1}F(m_{k-1})^T+Q=(1-0.01cos(m_{k-1}))^2p_{k-1}+Q_{k-1}}$$\n",
    "Update step:\n",
    "$$\\cases{V_k=y_k-h(m_k^-)=y_k-0.5sin(2m_k^-)\\\\S_k=H(m_k^-)p_k^-H(m_k^-)^T+R_k=cos^2(2m_k^-)p_k^-+R_k\\\\K_k=p_k^-H(m_k^-)^TS_k^{-1}=p_k^-cos(2m_k^-)S_k^{-1}}$$\n",
    "\n",
    "$$m_k=m_k^-+K_kV_k\\\\P_k=P_k^--K_kS_kK_k^T$$\n"
   ]
  },
  {
   "cell_type": "markdown",
   "metadata": {},
   "source": [
    "#### 2. Write the extended Kalman filter obtained by the **statistical** linearisation."
   ]
  },
  {
   "cell_type": "markdown",
   "metadata": {},
   "source": [
    "To derive the required expectations for the Extended Kalman filter (EKF), we need to calculate the following expressions:\n",
    "\n",
    "1. $\\mathbb{E}_{X \\sim N(m, \\sigma^2)}[e^{iax}]$:\n",
    "\n",
    "    The calculation of the expectation of $e^{iax}$, where $X$ follows a normal distribution $N(m, \\sigma^2)$, is:\n",
    "\n",
    "    $$\n",
    "    \\begin{aligned}\n",
    "    \\mathbb{E}_{X \\sim N(m, \\sigma^2)}[e^{iax}] &= \\int_{-\\infty}^{\\infty} e^{iax} \\frac{1}{\\sigma \\sqrt{2\\pi}} e^{-\\frac{(x-m)^2}{2\\sigma^2}} dx\\\\\n",
    "    &\\text{Let } \\frac{x-m}{\\sigma \\sqrt{2}} = t \\text{ , then } x = \\sigma \\sqrt{2} t + m\\\\\n",
    "    &\\text{We also have } \\frac{dx}{\\sigma \\sqrt{2}} = dt \\rightarrow dx = \\sigma \\sqrt{2} dt\\\\\n",
    "    &\\text{Hence, the integral becomes:}\\\\\n",
    "    &=\\frac{e^{iam}}{\\sqrt{\\pi}} \\int_{-\\infty}^{\\infty} e^{\\sqrt{2}\\sigma ait} e^{-t^2} dt\\\\\n",
    "    &= e^{iam} e^{-\\frac{a^2\\sigma^2}{2}}\n",
    "    \\end{aligned}\n",
    "    $$\n",
    "\n",
    "\n",
    "2. $\\mathbb{E}_{X \\sim N(m, \\sigma^2)}[x e^{iax}]$:\n",
    "\n",
    "    Similar to the above, we calculate the expectation:\n",
    "\n",
    "    \n",
    "$$\\mathbb{E}_{X \\sim \\mathcal{N}\\left(m, \\sigma^{2}\\right)}\\left[x e^{i a x}\\right]=\\int_{-\\infty}^{\\infty} x e^{i a x} \\frac{1}{\\sigma \\sqrt{2 \\pi}} e^{-\\frac{(x-m)^{2}}{2 \\sigma^{2}}} d x=\\int_{-\\infty}^{\\infty} x \\frac{1}{\\sigma \\sqrt{2 \\pi}} e^{-\\frac{1}{2 \\pi^{2}}\\left(x-\\left(m+i a \\sigma^{2}\\right)\\right)^{2}} e^{i m a} e^{-\\frac{1}{2} a^{2} \\sigma^{2}} d x = \\\\=e^{-\\frac{1}{2} a^{2} \\sigma^{2}} e^{i m a} \\int_{-\\infty}^{\\infty} x \\cdot \\mathcal{N}\\left(m+i a \\sigma^{2}, \\sigma^{2}\\right) d x=e^{-\\frac{1}{2} a^{2} \\sigma^{2}} e^{i m a} \\mathbb{E}_{x \\sim \\mathcal{N}\\left(m+i a \\sigma^{2}, \\sigma^{2}\\right)}[x]=e^{-\\frac{1}{2} a^{2} \\sigma^{2}} e^{i m a}\\left(m+i a \\sigma^{2}\\right)$$\n",
    "\n",
    "<br/>\n",
    " \n",
    "Having obtained these expectations, we can now proceed with the computations required for the EKF:\n",
    "\n",
    "<br/>\n",
    "\n",
    "\n",
    "- Prior mean $m_{k}^{-}$:\n",
    "\n",
    "Using the nonlinear function and its first-order linear approximation:\n",
    "\n",
    "\\begin{align*}\n",
    "m_{k}^{-} &= \\mathbb{E}_{x_{k-1} \\sim \\mathcal{N}(m_{k-1}, P_{k-1})}[x_{k-1} - 0.01 \\sin(x_{k-1})] \\\\\n",
    "&= \\mathbb{E}_{x_{k-1} \\sim \\mathcal{N}(m_{k-1}, P_{k-1})}[x_{k-1}] - 0.01 \\mathbb{E}_{x_{k-1} \\sim \\mathcal{N}(m_{k-1}, P_{k-1})}[\\sin(x_{k-1})] \\\\\n",
    "&= m_{k-1} - 0.01 \\operatorname{Im}\\left(\\mathbb{E}_{x_{k-1} \\sim \\mathcal{N}(m_{k-1}, P_{k-1})}[e^{i x_{k-1}}]\\right) \\\\\n",
    "&= m_{k-1} - 0.01 \\sin(m_{k-1}) e^{-\\frac{1}{2} P_{k-1}}\n",
    "\\end{align*}\n",
    "\n",
    "\n",
    "\n",
    "- Prior covariance $P_{k}^{-}$:\n",
    "\n",
    "\n",
    "\n",
    "\\begin{align*}\n",
    "& \\mathbb{E}_{x_{k-1} \\sim \\mathcal{N}(m_{k-1}, P_{k-1})} \\left[ (x_{k-1} - 0.01 \\sin(x_{k-1})) (x_{k-1} - m_{k-1}) \\right] \\\\\n",
    "&= \\mathbb{E}[x_{k-1}^2] - m_{k-1} \\mathbb{E}[x_{k-1}] - 0.01 \\mathbb{E}[x_{k-1} \\sin(x_{k-1})] + 0.01 m_{k-1} \\mathbb{E}[\\sin(x_{k-1})] \\\\\n",
    "&= \\mathbb{E}[x_{k-1}^2] - \\mathbb{E}[x_{k-1}]^2 - 0.01 \\operatorname{Im}\\left( \\mathbb{E}[x_{k-1} e^{i x_{k-1}}] \\right) + 0.01 m_{k-1} \\operatorname{Im}\\left( \\mathbb{E}[e^{i x_{k-1}}] \\right) \\\\\n",
    "&= \\operatorname{Var}(x_{k-1}) - 0.01 e^{-\\frac{1}{2} P_{k-1}} \\operatorname{Im}\\left( e^{i m} (m + i P_{k-1}) \\right) + 0.01 m_{k-1} e^{-\\frac{1}{2} P_{k-1}} \\operatorname{Im}\\left( e^{i m} \\right) \\\\\n",
    "&= P_{k-1} - 0.01 e^{-\\frac{1}{2} P_{k-1}} \\left( m_{k-1} \\sin(m_{k-1}) + P_{k-1} \\cos(m_{k-1}) \\right) + 0.01 m_{k-1} e^{-\\frac{1}{2} P_{k-1}} \\sin(m_{k-1}) \\\\\n",
    "&= P_{k-1} \\left(1 - 0.01 e^{-\\frac{1}{2} P_{k-1}} \\cos(m_{k-1}) \\right)\n",
    "\\end{align*}\n",
    "\n",
    "$$P_{k}^{-}=P_{k-1}\\left(1-0.01 e^{-\\frac{1}{2} P_{k-1}} \\cos \\left(m_{k-1}\\right)\\right)\\left(P_{k-1}\\right)^{-1} P_{k-1}\\left(1-0.01 e^{-\\frac{1}{2} P_{k-1}} \\cos \\left(m_{k-1}\\right)\\right)+Q_{k-1}=P_{k-1}\\left(1-0.01 e^{-\\frac{1}{2} P_{k-1}} \\cos \\left(m_{k-1}\\right)\\right)^{2}+Q_{k-1}$$\n",
    "\n",
    "\n",
    "- Innovation $V_{k}$:\n",
    "\n",
    "$$\\left.\\mathbb{E}_{x_{k} \\sim N\\left(m_{k}\\right.}, P_{k}^{-}\\right)\\left[0.5 \\sin \\left(2 x_{k}\\right)\\right]=0.5 \\operatorname{Im}\\left(\\mathbb{E}\\left[e^{i 2 x_{k}}\\right]\\right)=0.5 \\operatorname{Im}\\left(e^{i 2 m_{k}^{-}} e^{-2 P_{k}^{-}}\\right)=0.5 e^{-2 P_{k}^{-}} \\sin \\left(2 m_{k}^{-}\\right)$$\n",
    "\n",
    "$$V_{k}=y_{k}-0.5 e^{-2 P_{k}^{-}} \\sin \\left(2 m_{k}^{-}\\right)$$\n",
    "\n",
    "- Innovation covariance $S_{k}$:\n",
    "\n",
    "\\begin{align*}\n",
    "& \\mathbb{E}_{x_{k} \\sim \\mathcal{N}(m_{k}, P_{k}^{-})} \\left[0.5 \\sin(2 x_{k})(x_{k}-m_{k}^{-})\\right] \\\\\n",
    "&= 0.5 \\mathbb{E}[x_{k} \\sin(2 x_{k})] - 0.5 m_{k}^{-} \\mathbb{E}[\\sin(2 x_{k})] \\\\\n",
    "&= 0.5 e^{-2 P_{k}^{-}} \\operatorname{Im}\\left(e^{i 2 m_{k}^{-}}(m_{k}^{-} + i 2 P_{k}^{-})\\right) - 0.5 m_{k}^{-} e^{-2 P_{k}^{-}} \\operatorname{Im}\\left(e^{i 2 m_{k}^{-}}\\right) \\\\\n",
    "&= P_{k}^{-} e^{-2 P_{k}^{-}} \\operatorname{Im}\\left(i e^{i 2 m_{k}^{-}}\\right) \\\\\n",
    "&= P_{k}^{-} e^{-2 P_{k}^{-}} \\cos(2 m_{k}^{-})\n",
    "\\end{align*}\n",
    "\n",
    "\n",
    "\n",
    "$$\n",
    "S_{k} = P_{k}^{-} e^{-2 P_{k}^{-}} \\cos \\left(2 m_{k}^{-}\\right)\\left(P_{k}^{-}\\right)^{-1} P_{k}^{-} e^{-2 P_{k}^{-}} \\cos \\left(2 m_{k}^{-}\\right)+R_k = P_{k}^{-} e^{-4 P_{k}^{-}} \\cos \\left(2 m_{k}^{-}\\right)^{2}+R_k\n",
    "$$\n",
    "\n",
    "\n",
    "- Kalman gain $K_{k}$:\n",
    "\n",
    "\n",
    "$$\n",
    "K_{k} = P_{k}^{-} e^{-2 P_{k}^{-}} \\cos (2 m_{k}^{-})(S_{k})^{-1}\n",
    "$$\n",
    "\n",
    "- Updated mean $m_{k}$:\n",
    "\n",
    "$$\n",
    "\\begin{aligned}\n",
    "m_{k} & = m_{k}^{-} + K_{k} V_{k}\n",
    "\\end{aligned}\n",
    "$$\n",
    "\n",
    "- Updated covariance $P_{k}$:\n",
    "\n",
    "$$\n",
    "\\begin{aligned}\n",
    "P_{k} & = P_{k}^{-} - K_{k} S_{k} K_{k}^{T}\n",
    "\\end{aligned}\n",
    "$$\n",
    "\n",
    "<br/> <br/>\n",
    "\n",
    "This gives the complete implementation of the Extended Kalman Filter for a single step $k$, with statistical linearization.\n",
    "\n",
    "<br/> \n",
    "\n",
    "The prediction step is given by: $P(x_k|y_{1:k-1})=\\mathcal{N}(m_{k}^{-}, P_{k}^{-})$, where:\n",
    "\n",
    "$\\left\\{\\begin{array}{c}m_{k}^{-}=m_{k-1}-0.01 \\sin \\left(m_{k-1}\\right) e^{-\\frac{1}{2} P_{k-1}} \\\\ P_{k}^{-}=P_{k-1}\\left(1-0.01 e^{-\\frac{1}{2} P_{k-1}} \\cos \\left(m_{k-1}\\right)\\right)^{2}+Q_{k-1}\\end{array}\\right.$\n",
    "\n",
    "\n",
    "<br/> \n",
    "\n",
    "\n",
    "The update step is given by: $P(x_k|y_{1:k})=\\mathcal{N}(m_{k}, P_{k})$, where:\n",
    "\n",
    "$\\left\\{\\begin{array}{c}V_{k}=y_{k}-0.5\\sin \\left(2 m_{k}^{-}\\right) e^{-2 P_{k}^{-}}  \\\\ S_{k}=P_{k}^{-} e^{-4 P_{k}^{-}} \\cos \\left(2 m_{k}^{-}\\right)^{2}+R_k \\\\ K_{k}=P_{k}^{-} e^{-2 P_{k}^{-}} \\cos \\left(2 m_{k}^{-}\\right)\\left(S_{k}\\right)^{-1} \\\\ m_{k}=m_{k}^{-}+K_{k} V_{k} \\\\ P_{k}=P_{k}^{-}-K_{k} S_{k} K_{k}^{T}\\end{array}\\right.$\n",
    "\n"
   ]
  },
  {
   "cell_type": "markdown",
   "metadata": {},
   "source": [
    "#### 3. Implement in Python these versions of the EKF. Draw on the same graph in three different colors (with a clear caption) the trajectory of the system and the estimated states by the two different methods of EKF."
   ]
  },
  {
   "cell_type": "code",
   "execution_count": 2,
   "metadata": {},
   "outputs": [
    {
     "data": {
      "image/png": "[encoded data removed]",
      "text/plain": [
       "<Figure size 720x576 with 1 Axes>"
      ]
     },
     "metadata": {
      "needs_background": "light"
     },
     "output_type": "display_data"
    }
   ],
   "source": [
    "# Initialization\n",
    "N = 200\n",
    "Q = 0.01**2\n",
    "R = 0.02**2\n",
    "m_0 = 1\n",
    "P_0 = 0.00001\n",
    "\n",
    "# Process and observation models\n",
    "f = lambda x: x - 0.01 * np.sin(x)\n",
    "h = lambda x: 0.5 * np.sin(2*x)\n",
    "\n",
    "# Initialization of state variables\n",
    "m_taylor = np.zeros(N)\n",
    "P_taylor = np.zeros(N)\n",
    "m_stat = np.zeros(N)\n",
    "P_stat = np.zeros(N)\n",
    "m_taylor[0] = m_0\n",
    "P_taylor[0] = P_0\n",
    "m_stat[0] = m_0\n",
    "P_stat[0] = P_0\n",
    "\n",
    "# True state\n",
    "X_true = np.zeros(N)\n",
    "X_true[0] = m_0\n",
    "for k in range(1, N):\n",
    "    X_true[k] = f(X_true[k-1]) + np.sqrt(Q) * np.random.randn()\n",
    "\n",
    "# Observations\n",
    "Y = h(X_true) + np.sqrt(R) * np.random.randn(N)\n",
    "\n",
    "# EKF\n",
    "for k in range(1, N):\n",
    "    # Prediction step\n",
    "    m_minus_taylor = f(m_taylor[k-1])\n",
    "    P_minus_taylor = (1 - 0.01 * np.cos(m_taylor[k-1]))**2 * P_taylor[k-1] + Q\n",
    "    m_minus_stat = m_stat[k-1] - 0.01 * np.sin(m_stat[k-1]) * np.exp(-0.5 * P_stat[k-1])\n",
    "    P_minus_stat = P_stat[k-1] * (1 - 0.01 * np.exp(-0.5 * P_stat[k-1]) * np.cos(m_stat[k-1]))**2 + Q\n",
    "\n",
    "    # Update step\n",
    "    V_taylor = Y[k] - h(m_minus_taylor)\n",
    "    S_taylor = np.cos(2*m_minus_taylor)**2 * P_minus_taylor + R\n",
    "    K_taylor = P_minus_taylor * np.cos(2*m_minus_taylor) / S_taylor\n",
    "    m_taylor[k] = m_minus_taylor + K_taylor * V_taylor\n",
    "    P_taylor[k] = P_minus_taylor - K_taylor * S_taylor * K_taylor\n",
    "\n",
    "    V_stat = Y[k] - 0.5 * np.sin(2*m_minus_stat) * np.exp(-2*P_minus_stat)\n",
    "    S_stat = P_minus_stat * np.exp(-4*P_minus_stat) * np.cos(2*m_minus_stat)**2 + R\n",
    "    K_stat = P_minus_stat * np.exp(-2*P_minus_stat) * np.cos(2*m_minus_stat) / S_stat\n",
    "    m_stat[k] = m_minus_stat + K_stat * V_stat\n",
    "    P_stat[k] = P_minus_stat - K_stat * S_stat * K_stat\n",
    "\n",
    "\n",
    "# Plot results\n",
    "plt.figure(figsize=(10,8))\n",
    "plt.plot(np.linspace(0, N-1, N), X_true, label='True state')\n",
    "plt.plot(np.linspace(0, N-1, N), m_taylor, label='EKF Taylor linearisation')\n",
    "plt.plot(np.linspace(0, N-1, N), m_stat, label='EKF Statistical linearisation')\n",
    "plt.title('Estimated states using different methods of EKF')\n",
    "plt.xlabel('Step')\n",
    "plt.ylabel('State')\n",
    "plt.legend()\n",
    "plt.show()\n"
   ]
  },
  {
   "cell_type": "markdown",
   "metadata": {},
   "source": [
    "[Go to the beginning of the assignment](#home)\n",
    "<a id=\"GRID_FILTER\"></a><br/><br/>\n",
    "<u> GRID BASED FILTER </u>"
   ]
  },
  {
   "cell_type": "markdown",
   "metadata": {
    "id": "eak3mVQ1SG_B"
   },
   "source": [
    "Consider a situation where the state space is discrete and finite: $\\forall n;\\,x_n\\in S$ and $|S|=N<\\infty$. Let $S=\\{ x^1;\\,\\dots;\\,x^N\\}$.\n",
    "\n",
    "Define the coefficients $w^i_{k-1\\mid k+1}$ by the following relation: $$p\\left(x_{k-1}\\mid y_{1:k-1}\\right)=\\sum_{i=1}^Nw^1_{k-1\\mid k+1}\\delta\\left(x_{k-1}-x^i\\right)$$\n",
    "\n",
    "The prediction step leads to the following expression: $$p\\left(x_k\\mid y_{1:k-1}\\right)=\\sum_{i=1}^Nw_{k\\mid k-1}^i\\delta\\left(x_{k-1}-x^i\\right)$$\n",
    "\n",
    "Then the update step leads to: $$p\\left(x_k\\mid y_{1:k}\\right)=\\sum_{i=1}^Nw_{k\\mid k}\\delta\\left(x_{k-1}-x^i\\right)$$\n",
    "\n",
    "\n",
    "#### Prove the following relations:\n",
    "\n"
   ]
  },
  {
   "cell_type": "markdown",
   "metadata": {},
   "source": [
    "#### 1. $\\forall i;\\, w_{k\\mid k-1}^i=\\sum_{j=1}^Nw^j_{k-1\\mid k-1}p\\left(x^i\\mid x^j\\right)$, where $p\\left(x^i\\mid x^j\\right)$ is the transition probability from state $x^j$ to state $x^i$."
   ]
  },
  {
   "cell_type": "markdown",
   "metadata": {},
   "source": [
    "For each $i$ we have: \n",
    "\n",
    "\\begin{align*}\n",
    "w_{k|k-1}^i &= p(x_k=x^i|y_{1:k-1}) \\\\\n",
    "&= \\sum_{x_{k-1}} p(x_k=x^i|x_{k-1})p(x_{k-1}|y_{1:k-1}) \\\\\n",
    "&= \\sum_{x_{k-1}} p(x_k=x^i|x_{k-1})\\left[\\sum_{j=1}^{N}w_{k-1|k-1}^j\\delta(x_{k-1}-x_{k-1}^j)\\right] \\\\\n",
    "&= \\sum_{j=1}^{N}w_{k-1|k-1}^j\\sum_{x_{k-1}}p(x_k=x^i|x_{k-1})\\delta(x_{k-1}-x_{k-1}^j) \\\\\n",
    "&= \\sum_{j=1}^{N}w_{k-1|k-1}^j p(x^i|x^j)\n",
    "\\end{align*}\n"
   ]
  },
  {
   "cell_type": "markdown",
   "metadata": {},
   "source": [
    "#### 2. $\\forall i;\\, w^i_{k\\mid k}=\\frac{w^i_{k\\mid k-1}p\\left(y_k\\mid x^i\\right)}{\\sum^N_{j=1}w_{k\\mid k-1}^jp\\left(y_k\\mid x^j\\right)}$, where $p\\left(y_k\\mid x^l\\right)$ is the probability distribution of the measurement $y_k$ given the system is in state $x^l$."
   ]
  },
  {
   "cell_type": "markdown",
   "metadata": {},
   "source": [
    "For each $i$, we have:\n",
    "\n",
    "\\begin{equation}\n",
    "w^i_{k\\mid k}=\\frac{w^i_{k\\mid k-1}p\\left(y_k\\mid x^i\\right)}{\\sum^N_{j=1}w_{k\\mid k-1}^jp\\left(y_k\\mid x^j\\right)}\n",
    "\\end{equation}\n",
    "\n",
    "where $p\\left(y_k\\mid x^l\\right)$ is the probability distribution of the measurement $y_k$ given the system is in state $x^l$.\n",
    "\n",
    "This equation shows how to update the weight for each state, $x^i$, using the predicted weight, $w^i_{k\\mid k-1}$, and the likelihood of the measurement, $p\\left(y_k\\mid x^i\\right)$.\n",
    "\n",
    "The denominator, $\\sum^N_{j=1}w_{k\\mid k-1}^jp\\left(y_k\\mid x^j\\right)$, is a normalization constant that ensures that the sum of the weights for all states equals 1.\n",
    "\n"
   ]
  },
  {
   "cell_type": "markdown",
   "metadata": {},
   "source": [
    "#### 3. Consider the following situation. Let $x_k$ be a sequence of real numbers that satisfies: $$\\cases{x_k=x_{k-1}+Lv_{k-1}\\\\y_k=\\left(\\frac 1 2 +r_k\\right)x_k}$$ where $L$ is a positive real number, $v_{k-1}$ os a Rademacher random variable the distribution of which is given by: $$\\mathbb{P}\\left(v_{k-1}=i\\right)=\\cases{\\frac 1 2 & If $i\\in\\{-1;\\,1\\}$\\\\0& Otherwise }$$ and $r_k$ is a uniform random variable in $\\left[0;\\, \\frac 1 2\\right]$. Let $x_0$ be a Gaussian random variable, such that $x_0\\sim N\\left(0;\\, 1\\right)$. \n",
    "\n",
    "#### Implement a grid based filter to track the state vector $x_k$ over 100 time steps, within the state space $S=\\{x_0;\\, x_0\\pm L;\\,\\dots;\\, x_0\\pm nL\\}$, where $N=100$. Take $L=2$. Draw a plot with the actual state and the estimated one with two different colors and an implicit legend, over the tracking interval.\n"
   ]
  },
  {
   "cell_type": "code",
   "execution_count": 18,
   "metadata": {},
   "outputs": [
    {
     "data": {
      "image/png": "[encoded data removed]",
      "text/plain": [
       "<Figure size 432x288 with 1 Axes>"
      ]
     },
     "metadata": {
      "needs_background": "light"
     },
     "output_type": "display_data"
    }
   ],
   "source": [
    "# Number of steps\n",
    "num_of_steps = 100\n",
    "\n",
    "# Initialize the steps\n",
    "steps = np.arange(num_of_steps)\n",
    "\n",
    "# Constants\n",
    "length = 2\n",
    "starting_value = 1\n",
    "\n",
    "# Create a function for the phi equation\n",
    "def calculate_phi(d, t, starting_value=starting_value, length=length):\n",
    "    return starting_value + d * t * length\n",
    "\n",
    "# Create reversed and forward step ranges, excluding the first value\n",
    "reversed_step_range = reversed(range(1, num_of_steps))\n",
    "forward_step_range = range(1, num_of_steps)\n",
    "\n",
    "# Create the samples\n",
    "samples = np.array(\n",
    "    [calculate_phi(-1, t) for t in reversed_step_range]\n",
    "    + [starting_value]\n",
    "    + [calculate_phi(1, t) for t in forward_step_range]\n",
    ")\n",
    "\n",
    "# Initialize the state variables\n",
    "num_samples = len(samples)\n",
    "X = np.zeros(steps.shape)\n",
    "Y = np.zeros(steps.shape)\n",
    "R = np.zeros(steps.shape)\n",
    "V = np.zeros(steps.shape)\n",
    "\n",
    "# Initial conditions\n",
    "X[0] = starting_value\n",
    "\n",
    "# Initialize the weights\n",
    "weights = np.zeros([num_of_steps, num_samples])\n",
    "weights[0, :] = np.ones([1, num_samples]) / num_samples\n",
    "predicted_weights = np.ones([1, num_samples]) / num_samples\n",
    "\n",
    "# Loop over the steps to calculate the state and weights\n",
    "for step in steps[1:]:\n",
    "    # Randomly determine the velocity and R value\n",
    "    V[step] = 1 + (np.random.rand() < 0.5) * -2\n",
    "    R[step] = np.random.uniform(0, 0.5)\n",
    "    \n",
    "    # Calculate X and Y\n",
    "    X[step] = length * V[step] + X[step - 1]\n",
    "    Y[step] = (1 / 2 + R[step]) * X[step]\n",
    "\n",
    "    # Calculate the predicted weights\n",
    "    predicted_weights = np.array([\n",
    "        np.sum(\n",
    "            weights[step - 1, :] * (0.5 * (np.abs(samples[i] - samples) == length))\n",
    "        )\n",
    "        for i in range(num_samples)\n",
    "    ])\n",
    "\n",
    "    # Calculate the probabilities\n",
    "    probabilities = np.array([\n",
    "        1 / -0.5 * samples[j] * (samples[j] <= Y[step] <= 0.5 * samples[j])\n",
    "        if Y[step] < 0\n",
    "        else 1 / 0.5 * samples[j] * (0.5 * samples[j] <= Y[step] <= samples[j])\n",
    "        for j in range(num_samples)\n",
    "    ])\n",
    "\n",
    "    # Update the weights\n",
    "    weights[step, :] = predicted_weights * probabilities / np.sum(predicted_weights * probabilities)\n",
    "\n",
    "# Determine the indices and state\n",
    "indices = [np.searchsorted(samples, starting_value)] + [np.argmax(weights[i, :]) for i in steps[1:]]\n",
    "state = samples[indices]\n",
    "\n",
    "# Plot the actual and estimated state\n",
    "plt.figure()\n",
    "plt.plot(steps, X, label=\"Actual state\")\n",
    "plt.plot(steps, state, label=\"Estimated state\")\n",
    "plt.legend()\n",
    "plt.xlabel(\"Steps\")\n",
    "plt.show()"
   ]
  },
  {
   "cell_type": "markdown",
   "metadata": {},
   "source": [
    "[Go to the beginning of the assignment](#home)\n",
    "<a id=\"MONTE_CARLO\"></a><br/><br/>\n",
    "<u> REJECTION SAMPLING AND MONTE CARLO INTEGRATION </u>"
   ]
  },
  {
   "cell_type": "markdown",
   "metadata": {},
   "source": [
    "Consider a probability density distribution $f:\\;\\mathbb R\\mapsto\\mathbb R_+$. Let $g$ be another density distribution such that there exists $c>0$ such that $f(x)\\leq c\\cdot g(x)$ for all $x\\in\\mathbb R$. The purpose of rejection\n",
    "sampling is to make use of $g$ , which is supposed  to be simple to sample in order to produce samplings from $f$ . \n",
    "\n",
    "The algorithm works as follows:\n",
    "1. Draw a random variable $x$ following the distribution given by $g$.\n",
    "2. Draw a random variable $u$ from the uniform distribution over $(0;\\, 1)$.\n",
    "3. if $u\\leq\\frac{f(x)}{c\\cdot g(x)}$, accept $x$ as a sample from the distribution given by $f$. Otherwise, return to _1._.\n",
    "\n",
    "To prove that this algorithm indeed generates a sample from $f$, we shall prove that the cumulative distribution function of $x$ given by: $$F_x(t)=\\mathbb P\\left(x\\leq t\\mid u\\leq \\frac{f(x)}{c\\cdot g(x)}\\right)$$ satisfies $F_x(t)=F(t)$, where $F$ is the cumulative distribution function of $f$. Answer the following questions, that will guide you."
   ]
  },
  {
   "cell_type": "markdown",
   "metadata": {},
   "source": [
    "#### 1. Prove that $\\mathbb P\\left(x\\leq t\\mid u\\leq \\frac{f(x)}{c\\cdot g(x)}\\right)=\\frac{\\mathbb P\\left(x\\leq t;\\, u\\leq\\frac{f(x)}{c\\cdot g(x)}\\right)}{\\mathbb P\\left(u\\leq\\frac{f(x)}{c\\cdot g(x)}\\right)}$."
   ]
  },
  {
   "cell_type": "markdown",
   "metadata": {},
   "source": [
    " We can use the following $P(A\\mid B)=\\frac{P(A\\cap B)}{P(B)}$ formula: \n",
    " \n",
    "$$\\mathbb P\\left(x\\leq t\\mid u\\leq\\frac{f(x)}{c\\cdot g(x)}\\right)=\\frac{\\mathbb P\\left(x\\leq t;\\, u\\leq\\frac{f(x)}{c\\cdot g(x)}\\right)}{\\mathbb P\\left(u\\leq\\frac{f(x)}{c\\cdot g(x)}\\right)}$$"
   ]
  },
  {
   "cell_type": "markdown",
   "metadata": {},
   "source": [
    "#### 2. Prove that $\\mathbb P\\left(u\\leq\\frac{f(x)}{c\\cdot g(x)}\\right)=\\frac 1 c$."
   ]
  },
  {
   "cell_type": "markdown",
   "metadata": {},
   "source": [
    "\\begin{align*}\n",
    "\\mathbb{P}\\left(u \\leq \\frac{f(x)}{c \\cdot g(x)}\\right) & = \\mathbb{E}\\left[ I\\left(u\\leq\\frac{f(x)}{c\\cdot g(x)}\\right)\\right] = \\mathbb{E}_x\\left[ \\mathbb{E}_u\\left[ I\\left(u\\leq\\frac{f(x)}{c\\cdot g(x)} | x \\right) \\right]\\right]  = \\mathbb{E}_x\\left[ \\mathbb{P} (u\\leq\\frac{f(x)}{c\\cdot g(x)}| x ) \\right] \\\\ \n",
    "&=\\mathbb{E}_x\\left[ \\frac{f(x)}{c \\cdot g(x)} \\right]  = \\int_{-\\infty}^\\infty \\frac{f(x)}{c\\cdot g(x)} g(x) \\, dx  = \\frac{1}{c} \\int_{-\\infty}^\\infty f(x) \\, dx  = \\frac{1}{c}\n",
    "\\end{align*}\n"
   ]
  },
  {
   "cell_type": "markdown",
   "metadata": {},
   "source": [
    "#### 3. Deduce that $F_x(t)=F(t)$.\n"
   ]
  },
  {
   "cell_type": "markdown",
   "metadata": {},
   "source": [
    "\n",
    "$$\n",
    "\\begin{aligned}\n",
    "F_{x}(t) &= \\mathbb{P}(x \\leq t \\mid u \\leq \\frac{f(x)}{c g(x)}) \n",
    "= \\frac{\\mathbb{P}(x \\leq t, u \\leq \\frac{f(x)}{c g(x)})}{\\mathbb{P}(u \\leq \\frac{f(x)}{c g(x)})} \n",
    "= c \\cdot \\mathbb{P}(x \\leq t, u \\leq \\frac{f(x)}{c g(x)}) \n",
    "= c \\cdot \\int_{-\\infty}^{\\infty} \\mathbb{P}(x \\leq t, u \\leq \\frac{f(x)}{c g(x)} \\mid x) \\cdot g(x) dx \\\\\n",
    "&= c \\int_{-\\infty}^{t} \\mathbb{P}(u \\leq \\frac{f(x)}{c g(x)} \\mid x) \\cdot g(x) dx = c \\int_{-\\infty}^{t} \\frac{f(x)}{c g(x)} \\cdot g(x) dx \n",
    "= \\int_{-\\infty}^{t} f(x) dx = F(t)\n",
    "\\end{aligned}\n",
    "$$\n"
   ]
  },
  {
   "cell_type": "markdown",
   "metadata": {
    "id": "cVRUi9eegfuu"
   },
   "source": [
    "Let $f(x)=0,2\\frac 1 {\\sqrt{2\\pi}0,1}\\exp\\left(-\\frac{\\left(x-1\\right)^2}{2\\cdot0,01}\\right)+0,8\\frac 1 {\\sqrt{2\\pi}0,8}\\exp\\left(-\\frac{\\left(x-2\\right)^2}{2\\cdot0,64}\\right)$ and $g(x)=\\frac 1 {\\sqrt{2\\pi}10}\\exp\\left(-\\frac{x^2}{2\\cdot100}\\right)$.  Find the smallest $c$ such that $f\\leq cg$. Apply the rejection algorithm to compute $n=1000$ samples of $f$. Draw the graph of $f$ and the histogram of these samples on the same drawing. \n",
    "\n",
    "Use this algorithm to compute the following integral with the Monte-Carlo method: $$\\int_{-\\infty}^{+\\infty}\\left(x^2-3x+5\\right)\\cos\\left(x\\right)f(x)\\,dx$$"
   ]
  },
  {
   "cell_type": "code",
   "execution_count": 4,
   "metadata": {
    "executionInfo": {
     "elapsed": 9,
     "status": "ok",
     "timestamp": 1655920669381,
     "user": {
      "displayName": "Adam Aharony",
      "userId": "06407442470779818654"
     },
     "user_tz": -180
    },
    "id": "B4mNOCj2_-UK"
   },
   "outputs": [],
   "source": [
    "N = 1000\n",
    "\n",
    "def f(x):\n",
    "    return 0.2/(np.sqrt(2*np.pi)*0.1)*np.exp(-(x-1)**2/(2*0.01)) + \\\n",
    "           0.8/(np.sqrt(2*np.pi)*0.8)*np.exp(-(x-2)**2/(2*0.64))\n",
    "\n",
    "def g(x):\n",
    "    return 1/(np.sqrt(2*np.pi)*10)*np.exp(- x**2/(2*100))\n",
    "\n",
    "def h(x):\n",
    "    return (x**2 - 3*x + 5) * np.cos(x)\n",
    "\n",
    "def integrand(x):\n",
    "    return h(x) * f(x)"
   ]
  },
  {
   "cell_type": "code",
   "execution_count": 5,
   "metadata": {
    "colab": {
     "base_uri": "https://localhost:8080/",
     "height": 299
    },
    "executionInfo": {
     "elapsed": 738,
     "status": "ok",
     "timestamp": 1655920670110,
     "user": {
      "displayName": "Adam Aharony",
      "userId": "06407442470779818654"
     },
     "user_tz": -180
    },
    "id": "x23da3cnBhsi",
    "outputId": "14a8a22c-c673-4dd5-f744-be444ce735b8"
   },
   "outputs": [
    {
     "data": {
      "text/plain": [
       "[<matplotlib.lines.Line2D at 0x26681157fd0>]"
      ]
     },
     "execution_count": 5,
     "metadata": {},
     "output_type": "execute_result"
    },
    {
     "data": {
      "image/png": "[encoded data removed]",
      "text/plain": [
       "<Figure size 432x288 with 1 Axes>"
      ]
     },
     "metadata": {
      "needs_background": "light"
     },
     "output_type": "display_data"
    }
   ],
   "source": [
    "x = np.linspace(-40, 40, N)\n",
    "y = f(x)\n",
    "plt.title(\"f(x)\")\n",
    "plt.plot(x, y)"
   ]
  },
  {
   "cell_type": "code",
   "execution_count": 6,
   "metadata": {
    "colab": {
     "base_uri": "https://localhost:8080/",
     "height": 299
    },
    "executionInfo": {
     "elapsed": 152,
     "status": "ok",
     "timestamp": 1655920670111,
     "user": {
      "displayName": "Adam Aharony",
      "userId": "06407442470779818654"
     },
     "user_tz": -180
    },
    "id": "7SsVbKVbBm4y",
    "outputId": "ff4b532d-8cab-46b8-ecc0-6d2ece781622"
   },
   "outputs": [
    {
     "data": {
      "text/plain": [
       "[<matplotlib.lines.Line2D at 0x266811b87f0>]"
      ]
     },
     "execution_count": 6,
     "metadata": {},
     "output_type": "execute_result"
    },
    {
     "data": {
      "image/png": "[encoded data removed]",
      "text/plain": [
       "<Figure size 432x288 with 1 Axes>"
      ]
     },
     "metadata": {
      "needs_background": "light"
     },
     "output_type": "display_data"
    }
   ],
   "source": [
    "y = g(x)\n",
    "plt.title(\"g(x)\")\n",
    "plt.plot(x, y)"
   ]
  },
  {
   "cell_type": "code",
   "execution_count": 7,
   "metadata": {
    "colab": {
     "base_uri": "https://localhost:8080/",
     "height": 299
    },
    "executionInfo": {
     "elapsed": 150,
     "status": "ok",
     "timestamp": 1655920670114,
     "user": {
      "displayName": "Adam Aharony",
      "userId": "06407442470779818654"
     },
     "user_tz": -180
    },
    "id": "loEUD8FuIfrD",
    "outputId": "3d7d6bd6-67c1-419e-ec02-28fe6343a71f"
   },
   "outputs": [
    {
     "data": {
      "text/plain": [
       "[<matplotlib.lines.Line2D at 0x26681222130>]"
      ]
     },
     "execution_count": 7,
     "metadata": {},
     "output_type": "execute_result"
    },
    {
     "data": {
      "image/png": "[encoded data removed]",
      "text/plain": [
       "<Figure size 432x288 with 1 Axes>"
      ]
     },
     "metadata": {
      "needs_background": "light"
     },
     "output_type": "display_data"
    }
   ],
   "source": [
    "y = integrand(x)\n",
    "plt.title(\"integrand\")\n",
    "plt.plot(x, y)"
   ]
  },
  {
   "cell_type": "markdown",
   "metadata": {
    "id": "X9RetHhLBxj0"
   },
   "source": [
    "Let's evaluate the inequality: $$f(x)\\leq c\\cdot g(x)⇒\\\\⇒\\frac{f(x)}{g(x)}\\leq c$$\n",
    "Therefore, we have to find $\\max\\frac{f(x)}{g(x)}$."
   ]
  },
  {
   "cell_type": "code",
   "execution_count": 8,
   "metadata": {
    "colab": {
     "base_uri": "https://localhost:8080/"
    },
    "executionInfo": {
     "elapsed": 149,
     "status": "ok",
     "timestamp": 1655920670119,
     "user": {
      "displayName": "Adam Aharony",
      "userId": "06407442470779818654"
     },
     "user_tz": -180
    },
    "id": "wefdXlt1Bw-q",
    "outputId": "97d66da2-2a84-4ad1-d344-5bce5c9854eb"
   },
   "outputs": [
    {
     "name": "stdout",
     "output_type": "stream",
     "text": [
      "c: 24.70797220109872\n"
     ]
    }
   ],
   "source": [
    "c = np.max(f(x) / g(x))\n",
    "print(f'c: {c}')"
   ]
  },
  {
   "cell_type": "markdown",
   "metadata": {
    "id": "0jCFQgnAAGAN"
   },
   "source": [
    "Rejection algorithm:"
   ]
  },
  {
   "cell_type": "code",
   "execution_count": 25,
   "metadata": {
    "colab": {
     "base_uri": "https://localhost:8080/"
    },
    "executionInfo": {
     "elapsed": 633,
     "status": "ok",
     "timestamp": 1655920670606,
     "user": {
      "displayName": "Adam Aharony",
      "userId": "06407442470779818654"
     },
     "user_tz": -180
    },
    "id": "kcTPLWI48729",
    "outputId": "fdcc7d14-ecf4-46da-bd8c-9ad6bab8ed1b"
   },
   "outputs": [
    {
     "data": {
      "text/plain": [
       "1000"
      ]
     },
     "execution_count": 25,
     "metadata": {},
     "output_type": "execute_result"
    }
   ],
   "source": [
    "# Drawing variables\n",
    "i = 0\n",
    "x_valid = []\n",
    "\n",
    "while i < N:\n",
    "    x = np.random.normal(0, 10)\n",
    "    u = np.random.random()\n",
    "  # Consdering only valid variables\n",
    "    if u <= (f(x)) / (c*g(x)): \n",
    "        x_valid.append(x)\n",
    "        i += 1\n",
    "\n",
    "x_valid = np.array(x_valid)\n",
    "len(x_valid)"
   ]
  },
  {
   "cell_type": "code",
   "execution_count": 26,
   "metadata": {},
   "outputs": [
    {
     "data": {
      "image/png": "[encoded data removed]",
      "text/plain": [
       "<Figure size 432x288 with 1 Axes>"
      ]
     },
     "metadata": {
      "needs_background": "light"
     },
     "output_type": "display_data"
    }
   ],
   "source": [
    "# Plot the graph of f(x)\n",
    "x = np.linspace(-10, 10, N)\n",
    "y = f(x)\n",
    "plt.plot(x, y, label='f(x)')\n",
    "\n",
    "# Plot the histogram of samples\n",
    "plt.hist(x_valid, bins=50, density=True, label='Samples')\n",
    "plt.legend()\n",
    "\n",
    "plt.title('Graph of f(x) and Histogram of Samples')\n",
    "plt.xlabel('x')\n",
    "plt.ylabel('Density')\n",
    "plt.show()"
   ]
  },
  {
   "cell_type": "markdown",
   "metadata": {
    "id": "lScpj1wUYJxm"
   },
   "source": [
    "Finally, evaluating the integral:"
   ]
  },
  {
   "cell_type": "code",
   "execution_count": 27,
   "metadata": {
    "colab": {
     "base_uri": "https://localhost:8080/"
    },
    "executionInfo": {
     "elapsed": 6,
     "status": "ok",
     "timestamp": 1655920670973,
     "user": {
      "displayName": "Adam Aharony",
      "userId": "06407442470779818654"
     },
     "user_tz": -180
    },
    "id": "C8e-qGL1BQCI",
    "outputId": "769c9b44-f889-4d5d-e620-29a1316e92b8"
   },
   "outputs": [
    {
     "name": "stdout",
     "output_type": "stream",
     "text": [
      "The value of the integral is approximately: -0.7903175201\n"
     ]
    }
   ],
   "source": [
    "I = np.sum(h(x_valid)) / len(x_valid)\n",
    "print(f'The value of the integral is approximately: {I:.10f}')"
   ]
  }
 ],
 "metadata": {
  "colab": {
   "collapsed_sections": [],
   "name": "Task 3.ipynb",
   "provenance": []
  },
  "gpuClass": "standard",
  "kernelspec": {
   "display_name": "Python 3",
   "language": "python",
   "name": "python3"
  },
  "language_info": {
   "codemirror_mode": {
    "name": "ipython",
    "version": 3
   },
   "file_extension": ".py",
   "mimetype": "text/x-python",
   "name": "python",
   "nbconvert_exporter": "python",
   "pygments_lexer": "ipython3",
   "version": "3.8.8"
  }
 },
 "nbformat": 4,
 "nbformat_minor": 1
}
