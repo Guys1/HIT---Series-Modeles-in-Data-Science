{
 "cells": [
  {
   "cell_type": "markdown",
   "id": "b4530b13",
   "metadata": {},
   "source": [
    "# Serial Models in Data Science - Assignment 2"
   ]
  },
  {
   "cell_type": "markdown",
   "id": "d7d9bcfa",
   "metadata": {},
   "source": [
    "## Part II - Bayesian Regression"
   ]
  },
  {
   "cell_type": "markdown",
   "id": "fd1dd888",
   "metadata": {},
   "source": [
    "### Submitted by: \n",
    "\n",
    "\n",
    "Tamar Entin - 210014411 <br/>\n",
    "Guy Shafir - 315941799"
   ]
  },
  {
   "cell_type": "markdown",
   "id": "a1af697d",
   "metadata": {},
   "source": [
    "### Table of Contents:"
   ]
  },
  {
   "cell_type": "markdown",
   "id": "f794ebdc",
   "metadata": {},
   "source": [
    "<a id=\"home\"></a>\n",
    "\n",
    "\n",
    "| Section| Topic |\n",
    "| :- | :- |\n",
    "| 1 |  [GENERAL REGRESSION PROBLEM](#REGRESSION_PROBLEM) | \n",
    "| 2 |  [COMPUTE THE POSTERIOR OF w](#POSTERIOR) | \n",
    "| 3 |  [THE GAUSSIAN NATURE OF THE POSTERIOR AND THE PREDICTION](#GAUSSIAN_NATURE) | \n",
    "| 4 |  [SPARSE BAYESIAN LEARNING](#SPARSE_BAYESIAN) | \n",
    "| 5 |  [RELEVANCE VECTOR MACHINE (RVM)](#RVM) | "
   ]
  },
  {
   "cell_type": "markdown",
   "id": "dc6c65f5",
   "metadata": {},
   "source": [
    "[Go to the beginning of the assignment](#home)\n",
    "<a id=\"REGRESSION_PROBLEM\"></a><br/><br/>\n",
    "<u> GENERAL REGRESSION PROBLEM </u>"
   ]
  },
  {
   "cell_type": "markdown",
   "id": "5ee13238",
   "metadata": {},
   "source": [
    "#### General Regression Problem:\n",
    "\n",
    "We are given $n$ sampling times $x_1;\\, \\dots;\\, x_n$ and $n$ corresponding targets $y_1;\\, \\dots;\\, y_n$. For each $i$, we define a radial function:\n",
    "\n",
    "$$\\phi_i (x) = \\exp \\left( -\\frac{\\left( x-x_i \\right)^2}{r^2} \\right)$$\n",
    "\n",
    "The regression model is defined as the function $y\\left(x;\\, w\\right) =\\sum_{i=1}^n w_i \\phi_i \\left(x\\right)$, where $w=\\left(w_1;\\,\\dots;\\,w_n\\right)$ is a vector of weights to be determined.\n",
    "\n",
    "We assume that the targets are related to the model by an additive noise $\\varepsilon_i$ as follows:\n",
    "\n",
    "$$\n",
    "y_i = y\\left(x_i;\\,w\\right)+\\varepsilon_i\n",
    "$$\n",
    "\n",
    "The noise samples are assumed to be independent and identically distributed as $N\\left(0;\\,\\sigma^2\\right)$."
   ]
  },
  {
   "cell_type": "markdown",
   "id": "fd98bbc0",
   "metadata": {},
   "source": [
    "[Go to the beginning of the assignment](#home)\n",
    "<a id=\"POSTERIOR\"></a><br/><br/>\n",
    "<u>COMPUTE THE POSTERIOR OF w</u>"
   ]
  },
  {
   "cell_type": "markdown",
   "id": "5a397031",
   "metadata": {},
   "source": [
    "#### 1. Write the likelyhood of $w$."
   ]
  },
  {
   "cell_type": "markdown",
   "id": "61ddd6b3",
   "metadata": {},
   "source": [
    "Given the regression model:\n",
    "\n",
    "$$\n",
    "y\\left(x;\\, w\\right) =\\sum_{i=1}^n w_i \\phi_i \\left(x\\right)\n",
    "$$\n",
    "\n",
    "And the noise assumption:\n",
    "\n",
    "$$\n",
    "y_i = y\\left(x_i;\\,w\\right)+\\varepsilon_i\n",
    "$$\n",
    "\n",
    "The likelihood function $L\\left(w\\right)$ can be written as:\n",
    "\n",
    "$$\n",
    "L\\left(w; y, \\sigma^{2}\\right) = f\\left(y; w, \\sigma^{2}\\right) = \\prod_{i=1}^{n} f\\left(y_{i}; w, \\sigma^{2}\\right) = \\prod_{i=1}^{n} \\frac{1}{\\sqrt{2 \\pi \\sigma^{2}}} \\exp \\left(-\\frac{1}{2 \\sigma^{2}}\\left(y_{i}-y\\left(x_{i}, w\\right)\\right)^{2}\\right)= \\frac{1}{(2\\pi\\sigma^2)^{n/2}}\\exp\\left(-\\frac{1}{2\\sigma^2}\\sum_{i=1}^n (y_i - y(x_i; w))^2\\right)\n",
    "$$\n",
    "\n",
    "Simplifying the expression:\n",
    "\n",
    "$$\n",
    "L\\left(w; y, \\sigma^{2}\\right) = \\frac{1}{(2\\pi\\sigma^2)^{n/2}}\\exp \\left(-\\frac{1}{2 \\sigma^{2}} \\sum_{i=1}^{n}\\left(y_{i}-\\sum_{j=1}^{n} w_{j} \\phi_{j}\\left(x_{i}\\right)\\right)^{2}\\right) = \\frac{1}{(2\\pi\\sigma^2)^{n/2}}\\exp \\left(-\\frac{1}{2 \\sigma^{2}}\\|y-\\Phi \\omega\\|^{2}\\right)\n",
    "$$\n",
    "\n",
    "\n",
    "Which is the likelihood of $w$.\n"
   ]
  },
  {
   "cell_type": "markdown",
   "id": "b85afdec",
   "metadata": {},
   "source": [
    "#### 2. We define the same prior for all weights: $N\\left(0;\\,\\alpha^{-1}\\right)$, where $\\alpha>0$. Write the Bayes formula that defines the posterior distribution of $w$."
   ]
  },
  {
   "cell_type": "markdown",
   "id": "8e745016",
   "metadata": {},
   "source": [
    "We know that the posterior is proportional to the product of the likelihood and the prior:\n",
    "\n",
    "$$\n",
    "\\text{posterior} \\propto \\text{likelihood} \\times \\text{prior}\n",
    "$$\n",
    "\n",
    "The likelihood function is given by:\n",
    "$$\n",
    "L\\left(w; y, \\sigma^{2}\\right) = \\frac{1}{(2\\pi\\sigma^2)^{n/2}}\\exp\\left(-\\frac{1}{2\\sigma^2}\\|y-\\Phi \\omega\\|^2\\right)\n",
    "$$\n",
    "\n",
    "Given the prior distribution for all weights: $\\pi(w) = N\\left(0;\\,\\alpha^{-1}\\right)$, where $\\alpha > 0$, we know that:\n",
    "\n",
    "$$\n",
    "\\pi(w) = \\prod_{i=1}^{n} \\pi\\left(w_{i}\\right) = \\prod_{i=1}^n \\frac{1}{\\sqrt{2\\pi\\alpha^{-1}}} \\exp\\left(-\\frac{\\alpha}{2}w_i^2\\right) = \\left(\\frac{\\alpha}{2 \\pi}\\right)^{\\frac{n}{2}} \\exp \\left(-\\frac{\\alpha}{2} \\sum_{i=1}^{n} w_{i}^{2}\\right) = \\left(\\frac{\\alpha}{2 \\pi}\\right)^{\\frac{n}{2}} \\exp \\left(-\\frac{\\alpha}{2}\\|w\\|^{2}\\right) \n",
    "$$\n",
    "\n",
    "\n",
    "Multiplying the likelihood function by the prior, we obtain:\n",
    "\n",
    "$$\n",
    "p(w|y, \\sigma^{2}) \\propto \\left(\\frac{1}{(2\\pi\\sigma^2)^{n/2}}\\exp\\left(-\\frac{1}{2\\sigma^2}\\|y-\\Phi \\omega\\|^2\\right)\\right) \\cdot \\left(\\left(\\frac{\\alpha}{2 \\pi}\\right)^{\\frac{n}{2}} \\exp \\left(-\\frac{\\alpha}{2}\\|w\\|^2\\right)\\right)\n",
    "$$\n",
    "\n",
    "Simplifying the expression, we get:\n",
    "\n",
    "$$\n",
    "p(w|y, \\sigma^{2}) \\propto \\exp\\left(-\\frac{1}{2\\sigma^2}\\|y-\\Phi \\omega\\|^2 - \\frac{\\alpha}{2}\\|w\\|^2\\right)\n",
    "$$\n",
    "\n",
    "This expression represents the posterior distribution of $w$.\n",
    "\n"
   ]
  },
  {
   "cell_type": "markdown",
   "id": "f7e3d9f9",
   "metadata": {},
   "source": [
    "#### 3. Prove that computing the MAP estimate of $w$ is equivalent to a regularised least-square problem. Write the relation that relates $\\alpha$, $\\sigma^2$, and $\\lambda$, that is the regularisation parameter.\n"
   ]
  },
  {
   "cell_type": "markdown",
   "id": "8a542c57",
   "metadata": {},
   "source": [
    "Given the expression for the posterior distribution of $w$,\n",
    "\n",
    "$$\n",
    "p(w|y, \\sigma^{2}) \\propto \\exp\\left(-\\frac{1}{2\\sigma^2}\\|y-\\Phi \\omega\\|^2 - \\frac{\\alpha}{2}\\|w\\|^{2}\\right)\n",
    "$$\n",
    "\n",
    "Computing the Maximum a Posteriori (MAP) estimate of $w$ is equivalent to finding the $w$ that maximizes the posterior distribution:\n",
    "\n",
    "$$\n",
    "w_{MAP} = \\underset{w}{\\operatorname{argmax}}\\ p(w|y, \\sigma^2)\n",
    "$$\n",
    "\n",
    "Since the logarithm is a monotonic function, maximizing the logarithm of the posterior distribution is equivalent to maximizing the posterior distribution itself:\n",
    "\n",
    "$$\n",
    "w_{MAP} = \\underset{w}{\\operatorname{argmax}}\\ \\ln p(w|y, \\sigma^2) = \\underset{w}{\\operatorname{argmax}}\\ \\left(-\\frac{1}{2\\sigma^2}\\|y-\\Phi \\omega\\|^2 - \\frac{\\alpha}{2}\\|w\\|^2\\right)\n",
    "$$\n",
    "\n",
    "Maximizing the expression above is equivalent to minimizing its negation:\n",
    "\n",
    "$$\n",
    "w_{MAP} = \\underset{w}{\\operatorname{argmin}}\\ \\left(\\frac{1}{2\\sigma^2}\\|y-\\Phi \\omega\\|^2 + \\frac{\\alpha}{2}\\|w\\|^2\\right)\n",
    "$$\n",
    "\n",
    "Comparing this expression to the regularized least-square problem, which is given by:\n",
    "\n",
    "$$\n",
    "w_{RLS} = \\underset{w}{\\operatorname{argmin}}\\ \\left(\\|y-\\Phi w\\|^2 + \\lambda\\|w\\|^2\\right)\n",
    "$$\n",
    "\n",
    "We can see that the MAP estimate of $w$ is equivalent to a regularized least-square problem if we set:\n",
    "\n",
    "$$\n",
    "\\lambda = \\alpha \\sigma^2\n",
    "$$\n"
   ]
  },
  {
   "cell_type": "markdown",
   "id": "02480d37",
   "metadata": {},
   "source": [
    "[Go to the beginning of the assignment](#home)\n",
    "<a id=\"GAUSSIAN_NATURE\"></a><br/><br/>\n",
    "<u>THE GAUSSIAN NATURE OF THE POSTERIOR AND THE PREDICTION</u>\n"
   ]
  },
  {
   "cell_type": "markdown",
   "id": "fb4ffef3",
   "metadata": {},
   "source": [
    "In this section, we consider two lemmas. Note that you are not required to prove them:\n",
    "\n",
    "**Lemma 1.** If random variables $x \\in \\mathbb{R}^n$ and $y \\in \\mathbb{R}^p$ have the Gaussian probability distributions:\n",
    "\n",
    "$$\n",
    "\\begin{cases}\n",
    "x \\sim N(m, P) \\\\\n",
    "y\\,|\\,x \\sim N(Hx + u, R)\n",
    "\\end{cases}\n",
    "$$\n",
    "\n",
    "Then the joint distribution of $(x; y)$ and the marginal distribution of $y$ are given as:\n",
    "\n",
    "$$\n",
    "\\begin{cases}\n",
    "\\begin{pmatrix} x \\\\ y \\end{pmatrix} \\sim N\\left(\\begin{pmatrix} m \\\\ Hm + u \\end{pmatrix},\\begin{pmatrix} P & PH^T \\\\ HP & HPH^T + R \\end{pmatrix}\\right) \\\\\n",
    "y \\sim N(Hm + u, HPH^T + R)\n",
    "\\end{cases}\n",
    "$$\n",
    "\n",
    "**Lemma 2.** If random variables $x \\in \\mathbb{R}^n$ and $y \\in \\mathbb{R}^m$ have the joint Gaussian probability distributions:\n",
    "\n",
    "$$\n",
    "\\begin{pmatrix} x \\\\ y \\end{pmatrix} \\sim N\\left(\\begin{pmatrix} a \\\\ b \\end{pmatrix},\\begin{pmatrix} A & C \\\\ C^T & B \\end{pmatrix}\\right)\n",
    "$$\n",
    "\n",
    "Then the marginal and conditional distribution of $x$ and $y$ are given as follows:\n",
    "\n",
    "$$\n",
    "\\begin{cases}\n",
    "x \\sim N(a, A) \\\\\n",
    "y \\sim N(b, B) \\\\\n",
    "x\\,|\\,y \\sim N\\left(a + CB^{-1}(y - b), A - CB^{-1}C^T\\right) \\\\\n",
    "y\\,|\\,x \\sim N\\left(a + C^TA^{-1}(x - a), B - C^TA^{-1}C\\right)\n",
    "\\end{cases}\n",
    "$$\n",
    "\n",
    "Assuming that $w = \\left(w_1;\\,\\dots;\\,w_n\\right)^T$, $y = \\left(y_1;\\,\\dots;\\,y_n\\right)$, and the matrix $\\Phi$ is the same as defined in lectures, answer the two following questions:\n",
    "\n"
   ]
  },
  {
   "cell_type": "markdown",
   "id": "8208ceec",
   "metadata": {},
   "source": [
    "#### 1. Relying on these lemmas, prove that the posterior distribution of $w$, i.e. $f\\left(w\\,|\\,y;\\,\\alpha;\\,\\sigma^2\\right)$ is $N\\left(\\mu;\\,\\Sigma\\right)$, where: $\\Sigma^{-1}=\\frac{1}{\\sigma^2}\\Phi^T\\Phi+\\alpha I_n$ and $\\mu=\\frac{1}{\\sigma^2}\\Sigma\\Phi^Ty$."
   ]
  },
  {
   "cell_type": "markdown",
   "id": "bc867854",
   "metadata": {},
   "source": [
    "The prior distribution for $w$ is given by:\n",
    "\n",
    "$$\n",
    "\\pi(w | \\alpha) = \\left(\\frac{\\alpha}{2 \\pi}\\right)^{\\frac{n}{2}} \\exp \\left(-\\frac{\\alpha}{2}\\|w\\|^2\\right)\n",
    "$$\n",
    "\n",
    "We can obtain the expression for the Gaussian distribution of $w|\\alpha$ by considering the original prior distribution of $w$:\n",
    "\n",
    "$$\n",
    "\\pi(w | \\alpha) = \\frac{1}{(2 \\pi)^{0.5 n} |\\Sigma|^{\\frac{1}{2}}} \\exp \\left(-\\frac{1}{2} (w - \\mu)^{T} \\Sigma^{-1} (w - \\mu) \\right)\n",
    "$$\n",
    "\n",
    "Now, substitute $\\mu = 0$ and $\\Sigma = \\frac{1}{\\alpha} I_n$ into the original Gaussian distribution expression:\n",
    "\n",
    "\n",
    "$$\n",
    "\\pi(w | \\alpha) = \\frac{1}{(2 \\pi)^{0.5 n}\\left|\\frac{1}{\\alpha} I_{n}\\right|^{0.5}} \\exp \\left(-\\frac{1}{2} w^{T}\\left(\\frac{1}{\\alpha} I_{n}\\right)^{-1} w\\right) \\rightarrow w | \\alpha \\sim \\mathcal{N}\\left(0, \\frac{1}{\\alpha} I_n\\right)\n",
    "$$\n",
    "\n",
    "The likelihood function is given by:\n",
    "\n",
    "$$\n",
    "f\\left(y | w, \\sigma^2\\right) = \\left(\\frac{1}{2 \\pi \\sigma^2}\\right)^{\\frac{n}{2}} \\exp \\left(-\\frac{1}{2 \\sigma^2}\\|y - \\Phi w\\|^2\\right)\n",
    "$$\n",
    "\n",
    "We can rewrite this expression in the form of a multivariate Gaussian distribution:\n",
    "\n",
    "$$\n",
    "f\\left(y | w, \\sigma^2\\right) = \\frac{1}{(2 \\pi)^{0.5 n}\\left|\\sigma^2 I_{n}\\right|^{0.5}} \\exp \\left(-\\frac{1}{2}(y - \\Phi w)^{T}\\left(\\sigma^2 I_{n}\\right)^{-1}(y - \\Phi w)\\right) \\rightarrow y | w, \\sigma^2 \\sim \\mathcal{N}\\left(\\Phi w, \\sigma^2 I_n\\right)\n",
    "$$\n",
    "\n",
    "We have two random variables $w, y \\in \\mathbb{R}^{n}$ with Gaussian probability distributions:\n",
    "\n",
    "$$\n",
    "\\begin{cases}\n",
    "w | \\alpha \\sim \\mathcal{N}\\left(0, \\frac{1}{\\alpha} I_n\\right) \\\\\n",
    "y | w, \\sigma^2 \\sim \\mathcal{N}\\left(\\Phi w, \\sigma^2 I_n\\right)\n",
    "\\end{cases}\n",
    "$$\n",
    "\n",
    "Using **Lemma 1**, we can write the joint distribution of $(w; y)$ as:\n",
    "\n",
    "$$\n",
    "\\begin{pmatrix}\n",
    "w \\\\\n",
    "y\n",
    "\\end{pmatrix} \\sim N\\left(\\begin{pmatrix}\n",
    "0 \\\\\n",
    "\\Phi 0\n",
    "\\end{pmatrix}, \\begin{pmatrix}\n",
    "\\frac{1}{\\alpha} I_{n} & \\frac{1}{\\alpha} \\Phi^{T} \\\\\n",
    "\\frac{1}{\\alpha} \\Phi & \\frac{1}{\\alpha} \\Phi \\Phi^{T}+\\sigma^{2} I_{n}\n",
    "\\end{pmatrix}\\right)\n",
    "$$\n",
    "\n",
    "Now, we can use **Lemma 2** to find the conditional distribution $w\\,|\\,y$. To do this, we first need to identify $a, b, A, B$ and $C$ in the joint distribution.\n",
    "\n",
    "\n",
    "Here, we have:\n",
    "\n",
    "$$\n",
    "a = 0, \\quad b = \\Phi 0 = 0, \\quad A = \\frac{1}{\\alpha} I_{n}, \\quad B = \\frac{1}{\\alpha} \\Phi \\Phi^{T}+\\sigma^{2} I_{n}, \\quad C = \\frac{1}{\\alpha} \\Phi^{T}\n",
    "$$\n",
    "\n",
    "\n",
    "\n",
    "Using the formula for the conditional distribution $w\\,|\\,y$ from **Lemma 2**:\n",
    "\n",
    "$$\n",
    "w\\,|\\,y \\sim N\\left(a + CB^{-1}(y - b), A - CB^{-1}C^T\\right)\n",
    "$$\n",
    "\n",
    "First, let's calculate $CB^{-1}(y - b)$:\n",
    "\n",
    "\n",
    "$$\n",
    "CB^{-1}(y - b) = \\frac{1}{\\alpha} \\Phi^{T} \\left(\\frac{1}{\\alpha} \\Phi \\Phi^{T}+\\sigma^{2} I_{n}\\right)^{-1} (y - 0) = \\frac{1}{\\sigma^2} \\Phi^{T} \\left(\\frac{1}{\\sigma^2} \\Phi \\Phi^{T}+\\alpha I_{n}\\right)^{-1} y\n",
    "$$\n",
    "\n",
    "Now, we can calculate $A - CB^{-1}C^T$:\n",
    "\n",
    "- We know that for matrices M, N: $(M+N)^{-1}=M^{-1}-M^{-1} N(M+N)^{-1}$.\n",
    "\n",
    "$$\n",
    "\\begin{aligned}\n",
    "A - CB^{-1}C^T &= \\frac{1}{\\alpha} I_{n} - \\frac{1}{\\alpha} \\Phi^{T} \\left(\\frac{1}{\\alpha} \\Phi \\Phi^{T}+\\sigma^{2} I_{n}\\right)^{-1} \\frac{1}{\\alpha} \\Phi \\\\\n",
    "&= \\left(\\frac{1}{\\sigma^2} \\Phi^{T} \\Phi + \\alpha I_{n}\\right)^{-1}\n",
    "\\end{aligned}\n",
    "$$\n",
    "\n",
    "Therefore, the conditional distribution $w\\,|\\,y$ is given by:\n",
    "\n",
    "$$\n",
    "w\\,|\\,y \\sim N\\left(\\frac{1}{\\sigma^2} \\Phi^{T} \\left(\\frac{1}{\\sigma^2} \\Phi \\Phi^{T}+\\alpha I_{n}\\right)^{-1} y, \\left(\\frac{1}{\\sigma^2} \\Phi^{T} \\Phi + \\alpha I_{n}\\right)^{-1}\\right)\n",
    "$$\n",
    "\n",
    "Hence, the posterior distribution of $w$ is $f\\left(w\\,|\\,y;\\,\\alpha;\\,\\sigma^2\\right) \\sim \\mathcal{N}\\left(\\mu, \\Sigma\\right)$, with:\n",
    "\n",
    "$$\\Sigma^{-1} = \\frac{1}{\\sigma^2}\\Phi^T\\Phi + \\alpha I_n$$\n",
    "\n",
    "and\n",
    "\n",
    "$$\n",
    "\\mu = \\frac{1}{\\sigma^2} \\Phi^{T} \\left(\\frac{1}{\\sigma^2} \\Phi \\Phi^{T}+\\alpha I_{n}\\right)^{-1} y = \\frac{1}{\\sigma^2} \\Sigma \\Phi^{T} y\n",
    "$$\n",
    "\n"
   ]
  },
  {
   "cell_type": "markdown",
   "id": "c5591e7c",
   "metadata": {},
   "source": [
    "#### 2. Relying on these lemmas, prove that the prediction distribution of $y_*$ for a new point $x_*$, i.e. $f\\left(y_*\\,|\\,y\\right)=\\int f\\left(y_*\\,|\\,w;\\,\\hat{\\sigma}^2;\\,y\\right)\\pi\\left(w\\,|\\,\\hat\\alpha\\right)\\,dw$ is $N\\left(\\mu_0;\\,\\sigma_*\\right)$, where: $\\sigma_* = \\hat{\\sigma}^2+f^T\\Sigma f$ and $\\mu_*=y\\left(x_*;\\,\\mu\\right)$, where $\\mu$ and $\\Sigma$ are defined by $f\\left(w\\,|\\,y;\\,\\hat\\sigma^2;\\,\\hat\\alpha\\right)=N\\left(\\mu;\\,\\Sigma\\right)$ and $f=\\left(\\phi_1(x_*);\\,\\dots;\\,\\phi_n(x_*)\\right)^T$. Here $\\hat\\sigma^2$ and $\\hat \\alpha$ are the values of $\\sigma^2$ and $\\alpha$ given by type II maximum likelyhood."
   ]
  },
  {
   "cell_type": "markdown",
   "id": "13b6efcd",
   "metadata": {},
   "source": [
    "We begin with the distributions derived in the previous solution:\n",
    "\n",
    "$$\n",
    "w\\,|\\,y,\\hat{\\sigma}^2,\\hat{\\alpha} \\sim \\mathcal{N}(\\mu,\\Sigma) \\qquad \\text{and} \\qquad y_*\\,|\\,w \\sim \\mathcal{N}(f^T w,\\hat{\\sigma}^2)\n",
    "$$\n",
    "\n",
    "where $f=(\\phi_1(x_*), \\dots, \\phi_n(x_*))^T$. \n",
    "\n",
    "Using **Lemma 1**, we can express the joint distribution of $(w\\,|\\,y,\\hat{\\sigma}^2,\\hat{\\alpha},y_*)$ as:\n",
    "\n",
    "$$\n",
    "\\begin{pmatrix}\n",
    "w\\,|\\,y,\\hat{\\sigma}^2,\\hat{\\alpha}\\\\\n",
    "y_*\n",
    "\\end{pmatrix} \\sim \\mathcal{N}\\left(\n",
    "\\begin{pmatrix}\n",
    "\\mu\\\\\n",
    "f^T\\mu\n",
    "\\end{pmatrix}, \\begin{pmatrix}\n",
    "\\Sigma & \\Sigma f \\\\\n",
    "f^T \\Sigma & f^T\\Sigma f + \\hat{\\sigma}^2\n",
    "\\end{pmatrix}\\right)\n",
    "$$\n",
    "\n",
    "Using **Lemma 2**, we can find the conditional distribution of $y_*$ given $y$. It turns out that $y_*\\,|\\,y$ follows a Gaussian distribution:\n",
    "\n",
    "$$\n",
    "y_*\\,|\\,y \\sim \\mathcal{N}(\\mu_*,\\sigma_*^2)\n",
    "$$\n",
    "\n",
    "where:\n",
    "\n",
    "$$\n",
    "\\mu_* = f^T\\mu = y(x_*;\\mu)\n",
    "$$\n",
    "\n",
    "and:\n",
    "\n",
    "$$\n",
    "\\sigma_*^2 = f^T\\Sigma f + \\hat{\\sigma}^2\n",
    "$$\n",
    "\n",
    "Therefore, the prediction distribution of $y_*$ for a new point $x_*$ is given by:\n",
    "\n",
    "$$\n",
    "f(y_*\\,|\\,y) = \\int f(y_*\\,|\\,w;\\hat{\\sigma}^2;y)\\pi(w\\,|\\,\\hat{\\alpha};y)\\,dw = \\mathcal{N}(\\mu_*,\\sigma_*)\n",
    "$$\n",
    "\n"
   ]
  },
  {
   "cell_type": "markdown",
   "id": "2dfab9c4",
   "metadata": {},
   "source": [
    "[Go to the beginning of the assignment](#home)\n",
    "<a id=\"SPARSE_BAYESIAN\"></a><br/><br/>\n",
    "<u>SPARSE BAYESIAN LEARNING</u>\n"
   ]
  },
  {
   "cell_type": "markdown",
   "id": "16a98023",
   "metadata": {},
   "source": [
    "The prior of each component $w_i$ is now set separately $w_i\\sim N\\left(0;\\alpha_i^{-1}\\right)$, where $\\alpha_i>0$. The different components are assumed to be independent. Let $\\alpha=\\left(\\alpha_1;\\,\\dots;\\,\\alpha_n\\right)$.\n",
    "\n",
    "The posterior of the whole set of parameters is given by: $$f\\left(w;\\, \\alpha;\\,\\sigma^2\\,|\\,y\\right) = f\\left(w\\,|\\,y;\\,\\alpha;\\,\\sigma^2\\right)\\pi\\left(\\alpha;\\,\\sigma^2\\right)$$\n",
    "\n",
    "We shall write from now $\\beta$ for $\\frac{1}{\\sigma^2}$ in order to make the equations less cluttered.\n"
   ]
  },
  {
   "cell_type": "markdown",
   "id": "42821042",
   "metadata": {},
   "source": [
    "#### 1. Show that $f\\left(w\\,|\\,y;\\,\\alpha;\\,\\beta\\right)=N\\left(m;\\,\\Sigma\\right)$, where: $$\\matrix{m=\\beta\\Sigma\\Phi^Ty\\\\ \\Sigma=\\left(A+\\beta\\Phi^T\\Phi\\right)^{-1}}$$ with $A=\\text{diag}\\,\\alpha$ and the matrix $\\Phi$ is the same matrix as before."
   ]
  },
  {
   "cell_type": "markdown",
   "id": "efa1d08e",
   "metadata": {},
   "source": [
    "Given the prior distribution for each component $w_i$:\n",
    "\n",
    "$$w_i \\sim \\mathcal{N}\\left(0, \\alpha_i^{-1}\\right), \\text{ where } \\alpha_i > 0$$\n",
    "\n",
    "The prior distribution for the entire $w$ is:\n",
    "\n",
    "$$\\pi(w | \\alpha) = \\prod_{i=1}^n \\pi(w_i | \\alpha) = \\prod_{i=1}^{n} \\sqrt{\\frac{a_{i}}{2 \\pi}} \\exp \\left(-\\frac{\\alpha_{i}}{2} w_{i}^{2}\\right)=\\frac{1}{(2 \\pi)^{0.5 n}\\left(\\Pi_{i=1}^{n} \\alpha_{i}^{-1}\\right)^{0.5}} \\exp \\left(-\\frac{1}{2} \\sum_{i=1}^{n} \\alpha_{i} w_{i}^{2}\\right) = \\frac{1}{(2\\pi)^{0.5n} |A^{-1}|^{0.5}} \\exp\\left(-\\frac{1}{2} w^T A w\\right)$$\n",
    "\n",
    "From here, we can conclude that $\\pi(w | \\alpha) = \\mathcal{N}\\left(0, A^{-1}\\right)$.\n",
    "\n",
    "Now, we can write the joint distribution using the **First Lemma**:\n",
    "\n",
    "$$\n",
    "\\left(\\begin{array}{c}\n",
    "w | \\alpha \\\\\n",
    "y | \\beta, \\alpha\n",
    "\\end{array}\\right) \\sim \\mathcal{N}\\left(\\left(\\begin{array}{l}\n",
    "0 \\\\\n",
    "0\n",
    "\\end{array}\\right),\\left(\\begin{array}{cc}\n",
    "A^{-1} & A^{-1} \\Phi^T \\\\\n",
    "\\Phi A^{-1} & \\Phi A^{-1} \\Phi^T + \\frac{1}{\\beta} I_n\n",
    "\\end{array}\\right)\\right)\n",
    "$$\n",
    "\n",
    "Using the **Second Lemma**, we can obtain the posterior distribution for $w$:\n",
    " \n",
    "$$\n",
    "\\begin{aligned}\n",
    "& \\Sigma = A^{-1} - A^{-1} \\Phi^T\\left(\\Phi A^{-1} \\Phi^T + \\frac{1}{\\beta} I_n\\right)^{-1} \\Phi A^{-1} \n",
    "  = A^{-1} - A^{-1} \\Phi^T\\left(A^{-1} \\Phi^T + \\frac{1}{\\beta} \\Phi^{-1}\\right)^{-1} A^{-1} \\\\\n",
    "&  = A^{-1} - A^{-1} \\beta \\Phi^T\\left(\\beta \\Phi^T + A \\Phi^{-1}\\right)^{-1} \n",
    "  = A^{-1} - A^{-1} \\beta \\Phi^T \\Phi\\left(\\beta \\Phi^T \\Phi + A\\right)^{-1} \n",
    "  = \\left(A + \\beta \\Phi^T \\Phi\\right)^{-1} \n",
    "& \\\\\n",
    "& \\\\\n",
    "& m = A^{-1} \\Phi^T\\left(\\Phi A^{-1} \\Phi^T + \\frac{1}{\\beta} I_n\\right)^{-1} y = \\left(\\left(\\Phi^T\\right)^{-1} A\\right)^{-1}\\left(\\Phi A^{-1} \\Phi^T + \\frac{1}{\\beta} I_n\\right)^{-1} y \\\\\n",
    "& = \\beta\\left(\\beta \\Phi + \\left(\\Phi^T\\right)^{-1} A\\right)^{-1} y = \\beta\\left(\\beta \\Phi^T \\Phi + A\\right)^{-1} \\Phi^T y = \\beta \\Sigma \\Phi^T y\n",
    "\\end{aligned}\n",
    "$$\n",
    "\n",
    "\n",
    "Thus, the posterior distribution of $w$ is:\n",
    "\n",
    "$$\n",
    "f(w\\,|\\,y;\\,\\alpha;\\,\\beta) = \\mathcal{N}\\left(m, \\Sigma\\right)\n",
    "$$\n",
    "\n",
    "Where $\\Sigma = \\left(A + \\beta \\Phi^T \\Phi\\right)^{-1}$ and $m = \\beta \\Sigma \\Phi^T y$.\n"
   ]
  },
  {
   "cell_type": "markdown",
   "id": "3fcf0c67",
   "metadata": {},
   "source": [
    "#### 2. We want to compute the parameters $\\alpha$ and $\\beta$ using the Maximum Likelyhood principle. For that purpose show that the log-likelyhood $f\\left(y\\,|\\,\\alpha;\\beta\\right)$ is given by:$$\\ln f\\left(y\\,|\\,\\alpha;\\beta\\right) = \\frac{n}{2}\\ln \\beta-E(y)-\\frac{1}{2}\\ln|\\Sigma|-\\frac{n}{2}\\ln\\left(2\\pi\\right)+\\frac{1}{2}\\sum_{i=1}^n\\ln\\alpha_i$$ where $E(y) = \\frac{1}{2}\\left(\\beta y^Ty-m^T\\Sigma^{-1}m\\right)$. Once the log-likelyhood is given, one can design an iterative algorithm which estimates all the parameters.\n"
   ]
  },
  {
   "cell_type": "markdown",
   "id": "a1920de9",
   "metadata": {},
   "source": [
    "We are given the equation:\n",
    "\n",
    "$$\n",
    "\\begin{aligned}\n",
    "f(y / \\alpha, \\beta) = \\mathcal{N}\\left(0, \\Phi A^{-1} \\Phi^{T}+\\frac{1}{\\beta} I_{n}\\right) = \\frac{1}{(2 \\pi)^{n/2}\\left|\\Phi A^{-1} \\Phi^{T}+\\frac{1}{\\beta} I_{n}\\right|^{1/2}} \\exp \\left(-\\frac{1}{2} Y^{T}\\left(\\Phi A^{-1} \\Phi^{T}+\\frac{1}{\\beta} I_{n}\\right)^{-1} y\\right) = k e^{t}\n",
    "\\end{aligned}\n",
    "$$\n",
    "\n",
    "After the parametrization, we get: $\\quad \\ln f(y / \\alpha, \\beta) = \\ln (k) + t$\n",
    "\n",
    "We will now expand the term $t$, which represents the exponent part of the likelihood function:\n",
    "\n",
    "$$\n",
    "\\begin{aligned}\n",
    "t &= -\\frac{1}{2} y^{T}\\left(\\Phi A^{-1} \\Phi^{T}+\\frac{1}{\\beta} I_{n}\\right)^{-1} y \n",
    "  = -\\frac{1}{2} \\beta y^{T}\\left(\\beta \\Phi A^{-1} \\Phi^{T}+I_{n}\\right)^{-1} y \\\\\n",
    "  &= -\\frac{1}{2} \\beta y^{T}\\left(I_{n}-\\beta \\Phi A^{-1} \\Phi^{T}\\left(\\beta \\Phi A^{-1} \\Phi^{T}+I_{n}\\right)^{-1}\\right) y \n",
    "  = -\\frac{1}{2} \\beta y^{T}\\left(I_{n}-\\beta \\Phi\\left(\\left(\\Phi^{T}\\right)^{-1} A\\right)^{-1}\\left(\\beta \\Phi A^{-1} \\Phi^{T}+I_{n}\\right)^{-1}\\right) y \\\\\n",
    "  &= -\\frac{1}{2} \\beta y^{T}\\left(I_{n}-\\beta \\Phi\\left(\\beta \\Phi+\\left(\\Phi^{T}\\right)^{-1} A\\right)^{-1}\\right) y\n",
    "  = -\\frac{1}{2} \\beta y^{T}\\left(I_{n}-\\beta \\Phi\\left(\\beta \\Phi^{T} \\Phi+A\\right)^{-1} \\Phi^{T}\\right) y \\\\\n",
    "  &= -\\frac{1}{2} \\beta y^{T}\\left(I_{n}-\\beta \\Phi \\Sigma \\Phi^{T}\\right) y \n",
    "  = -\\frac{1}{2}\\left(\\beta y^{T} y-m^{T} \\Sigma^{-1} m\\right) \n",
    "  = -E(y)\n",
    "\\end{aligned}\n",
    "$$\n",
    "\n",
    "Now, we will expand the term $\\ln (k)$:\n",
    "\n",
    "$$\n",
    "\\begin{aligned}\n",
    "\\ln (k) &= -\\frac{n}{2} \\ln(2 \\pi) - \\frac{1}{2} \\ln \\left(\\left|\\Phi A^{-1} \\Phi^{T}+\\frac{1}{\\beta} I_{n}\\right|\\right) \n",
    "        = -\\frac{n}{2} \\ln (2 \\pi) + \\frac{n}{2} \\ln \\beta - \\frac{1}{2} \\ln \\left(\\left|\\beta \\Phi A^{-1} \\Phi^{T}+I_{n}\\right|\\right) \\\\\n",
    "        &= -\\frac{n}{2} \\ln (2 \\pi) + \\frac{n}{2} \\ln \\beta - \\frac{1}{2} \\ln \\left(\\left|A^{-1}\\right| \\cdot\\left|\\beta \\Phi^{T}+A \\Phi^{-1}\\right| \\cdot|\\Phi|\\right) \n",
    "        = -\\frac{n}{2} \\ln (2 \\pi) + \\frac{n}{2} \\ln \\beta - \\frac{1}{2} \\ln \\left(\\left|A^{-1}\\right| \\cdot\\left|\\beta \\Phi^{T} \\Phi+A\\right|\\right) \\\\\n",
    "        &= -\\frac{n}{2} \\ln (2 \\pi) + \\frac{n}{2} \\ln \\beta - \\frac{1}{2} \\ln \\left(\\left|A^{-1}\\right| \\cdot|\\Sigma|\\right) \n",
    "        = -\\frac{n}{2} \\ln (2 \\pi) + \\frac{n}{2} \\ln \\beta - \\frac{1}{2} \\ln |\\Sigma|+\\frac{1}{2} \\ln \\left(\\prod_{i=1}^{n} \\alpha_{i}\\right) \\\\\n",
    "        &= -\\frac{n}{2} \\ln (2 \\pi) + \\frac{n}{2} \\ln \\beta - \\frac{1}{2} \\ln |\\Sigma|+\\frac{1}{2} \\sum_{i=1}^{n} \\ln \\alpha_{i}\n",
    "\\end{aligned}\n",
    "$$\n",
    "\n",
    "\n",
    "Finally, combining the terms:\n",
    "\n",
    "$$\n",
    "\\begin{aligned}\n",
    "\\ln f(y / \\alpha, \\beta) = \\frac{n}{2} \\ln \\beta - E(y) - \\frac{1}{2} \\ln |\\Sigma| - \\frac{n}{2} \\ln (2 \\pi) + \\frac{1}{2} \\sum_{i=1}^{n} \\ln \\alpha_{i}\n",
    "\\end{aligned}\n",
    "$$\n",
    "\n",
    "\n",
    "\n",
    "\n"
   ]
  },
  {
   "cell_type": "markdown",
   "id": "9d74e28e",
   "metadata": {},
   "source": [
    "[Go to the beginning of the assignment](#home)\n",
    "<a id=\"RVM\"></a><br/><br/>\n",
    "<u>RELEVANCE VECTOR MACHINE (RVM)</u>"
   ]
  },
  {
   "cell_type": "markdown",
   "id": "f771d74c",
   "metadata": {},
   "source": [
    "The RVM process is an iterative one and involves repeatedly re-estimating $\\alpha$ and $\\beta$ until a stopping condition is met. In otder to implement the algorithm, we must first:\n",
    "\n",
    "1. Select a suitable kernel function, i.e. a suitable radial function, for the dataset and relevant parameters. Use this kernel function to create the design matrix $\\Phi$.\n",
    "2. Establish a suitable convergence criteria for $\\alpha$ and $\\beta$, e.g. a threshold value $\\delta_{\\text{Threshold}}$ for the change between one iteration estimation of $\\alpha$ and the next, i.e. $\\delta = \\sum_{i=1}^n |\\alpha_i^{k+1}-\\alpha_i^k|$ so that re-estimation will stop when $\\delta<\\delta_{\\text{Threshold}}$.\n",
    "3. Establish a threshold value $\\alpha_{\\text{Threshold}}$ which it is assumed an $\\alpha_i$ is tending to infinity upon reaching it.\n",
    "4. Choose starting values for $\\alpha$ and $\\beta$.\n",
    "\n",
    "Then, the algorithm itself is described by the following steps:\n",
    "- While $\\delta<\\delta_{\\text{Threshold}}$ do:\n",
    "  - Calculate $m=\\beta\\Sigma\\Phi^Ty$ and $\\Sigma=\\left(A+\\beta\\Phi^T\\Phi\\right)^{-1}$\n",
    "  - Update $\\alpha_i=\\frac{\\gamma_i}{m_i^2}$, where $\\gamma_i$ is computed relying on the previous values of $\\alpha$ and $\\Sigma$ by the following expression: $\\gamma_i=1-\\alpha_i\\Sigma_{ii}$.\n",
    "  - Update $\\beta = \\frac{N-\\Sigma_i\\gamma_i}{\\|y-\\Phi m\\|^2}$.\n",
    "  - Update $\\delta$.\n",
    "  - Prune the $\\alpha_i$ and corresponding basis functions where $\\alpha_i>\\alpha_{\\text{Threshold}}$.\n",
    "\n",
    "Our hyperparameter values $\\alpha$ and $\\beta$ which result from the above procedure are those that maximise our marginal likelyhood and hence are those used when making a new estimate of a target value $y_*$ for a new input $x_*$: $$y_* = m^T\\phi\\left(x_*\\right)$$ with $\\phi\\left(x_*\\right) = \\left(\\phi_{i1}\\left(x_*\\right);\\,\\dots;\\,\\phi_{ip}\\left(x_*\\right)\\right)$ where $p$ is the number of remaining basis functions. \n",
    "\n",
    "The variance relating to our confidence in this estimate is given by: $$\\sigma_*^2=\\beta^{-1}+\\phi\\left(x_*\\right)^T\\Sigma\\phi\\left(x_*\\right)$$\n",
    "\n",
    "Write a Python function that implements this algorithm. Give an example of this on a synthetic set of data that includes estimation of the new target at a new input."
   ]
  },
  {
   "cell_type": "markdown",
   "id": "f7b8102e",
   "metadata": {},
   "source": [
    "### Imports"
   ]
  },
  {
   "cell_type": "code",
   "execution_count": 1,
   "id": "561cc83d",
   "metadata": {},
   "outputs": [],
   "source": [
    "import numpy as np\n",
    "from matplotlib import pyplot as plt\n",
    "from sklearn.metrics.pairwise import rbf_kernel"
   ]
  },
  {
   "cell_type": "markdown",
   "id": "96731c0e",
   "metadata": {},
   "source": [
    "### Data Generation"
   ]
  },
  {
   "cell_type": "code",
   "execution_count": 2,
   "id": "67b8064e",
   "metadata": {},
   "outputs": [
    {
     "data": {
      "image/png": "[encoded data removed]",
      "text/plain": [
       "<Figure size 432x288 with 1 Axes>"
      ]
     },
     "metadata": {
      "needs_background": "light"
     },
     "output_type": "display_data"
    }
   ],
   "source": [
    "# Data Generation\n",
    "N = 100\n",
    "X = 2 * np.pi * np.arange(N) / N\n",
    "eps = np.random.normal(0, 0.2, N)\n",
    "Y = np.sin(X) + eps\n",
    "\n",
    "# Plot Original Data\n",
    "plt.plot(X, Y, label='Original Data')\n",
    "plt.legend()\n",
    "plt.title('Original Data')\n",
    "plt.show()"
   ]
  },
  {
   "cell_type": "markdown",
   "id": "205f1ff2",
   "metadata": {},
   "source": [
    "### Constanats"
   ]
  },
  {
   "cell_type": "code",
   "execution_count": 3,
   "id": "1e21ecd9",
   "metadata": {},
   "outputs": [],
   "source": [
    "DELTA_THRESHOLD = 1e-3\n",
    "ALPHA_THRESHOLD = 1e9\n",
    "KERNEL = rbf_kernel"
   ]
  },
  {
   "cell_type": "markdown",
   "id": "ad541797",
   "metadata": {},
   "source": [
    "### Algorithm"
   ]
  },
  {
   "cell_type": "code",
   "execution_count": 4,
   "id": "3c08c4e3",
   "metadata": {},
   "outputs": [],
   "source": [
    "def rvm(X, y, kernel=KERNEL, delta_thresh=DELTA_THRESHOLD, alpha_thresh=ALPHA_THRESHOLD, alpha=1e-6, beta=1.e-6):\n",
    "    num_of_samples = X.shape[0]\n",
    "    phi = kernel(X, X)\n",
    "    num_of_basis_functions = phi.shape[1]\n",
    "    alpha_vec = alpha * np.ones(num_of_basis_functions)\n",
    "    beta_vec = beta\n",
    "    m_vec = np.zeros(num_of_basis_functions)\n",
    "    relevance_vec = X\n",
    "\n",
    "    prev_alpha = alpha_vec\n",
    "    delta = delta_thresh + 1\n",
    "    while (delta >= delta_thresh):\n",
    "        # 1. Calculate m and Sigma\n",
    "        i_s = np.diag(alpha_vec) + beta_vec * np.dot(phi.T, phi)\n",
    "        sigma_vec = np.linalg.inv(i_s)\n",
    "        m_vec = beta_vec * np.dot(sigma_vec, np.dot(phi.T, y))\n",
    "\n",
    "        # 2. Update alpha\n",
    "        gamma_vec = 1 - alpha_vec * np.diag(sigma_vec)\n",
    "        alpha_vec = gamma_vec / (m_vec ** 2)\n",
    "\n",
    "        # 3. Update beta\n",
    "        beta_vec = (num_of_samples - np.sum(gamma_vec)) / (np.sum((y - np.dot(phi, m_vec)) ** 2))\n",
    "\n",
    "        # 4. Prune alpha - retain where alpha < alpha_threshold\n",
    "        should_retain_alpha = alpha_vec < alpha_thresh\n",
    "        if not np.any(should_retain_alpha):\n",
    "            should_retain_alpha[0] = True\n",
    "\n",
    "        relevance_vec = relevance_vec[should_retain_alpha]\n",
    "        alpha_vec = alpha_vec[should_retain_alpha]\n",
    "        prev_alpha = prev_alpha[should_retain_alpha]\n",
    "        gamma_vec = gamma_vec[should_retain_alpha]\n",
    "        phi = phi[:, should_retain_alpha]\n",
    "        sigma_vec = sigma_vec[np.ix_(should_retain_alpha, should_retain_alpha)]\n",
    "        m_vec = m_vec[should_retain_alpha]\n",
    "\n",
    "        # 5. Update delta\n",
    "        delta = np.amax(np.absolute(alpha_vec - prev_alpha))\n",
    "        prev_alpha = alpha_vec\n",
    "\n",
    "    def predict(x):\n",
    "        phi = rbf_kernel(x, relevance_vec)\n",
    "        return np.dot(phi, m_vec)\n",
    "\n",
    "    return predict"
   ]
  },
  {
   "cell_type": "code",
   "execution_count": 5,
   "id": "4475c5a8",
   "metadata": {},
   "outputs": [
    {
     "data": {
      "image/png": "[encoded data removed]",
      "text/plain": [
       "<Figure size 432x288 with 1 Axes>"
      ]
     },
     "metadata": {
      "needs_background": "light"
     },
     "output_type": "display_data"
    }
   ],
   "source": [
    "# Train RVM on the generated data\n",
    "X = X.reshape(-1, 1)\n",
    "predicting_func = rvm(X, Y)\n",
    "\n",
    "# Make predictions\n",
    "X_star = np.arange(0, 2 * np.pi, 0.01).reshape(-1, 1)\n",
    "y_star = predicting_func(X_star)\n",
    "\n",
    "\n",
    "# Plot RVM Predictions\n",
    "plt.plot(X, Y, label='Original Data')\n",
    "#plt.plot(X, Y, 'o', label='Original Data')\n",
    "plt.plot(X_star, y_star, label='RVM Predictions')\n",
    "plt.legend()\n",
    "plt.title('RVM Predictions')\n",
    "plt.show()"
   ]
  }
 ],
 "metadata": {
  "kernelspec": {
   "display_name": "Python 3",
   "language": "python",
   "name": "python3"
  },
  "language_info": {
   "codemirror_mode": {
    "name": "ipython",
    "version": 3
   },
   "file_extension": ".py",
   "mimetype": "text/x-python",
   "name": "python",
   "nbconvert_exporter": "python",
   "pygments_lexer": "ipython3",
   "version": "3.8.8"
  }
 },
 "nbformat": 4,
 "nbformat_minor": 5
}
