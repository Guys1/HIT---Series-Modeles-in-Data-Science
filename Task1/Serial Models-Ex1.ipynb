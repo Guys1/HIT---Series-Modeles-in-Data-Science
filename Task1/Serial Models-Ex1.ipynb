{
 "cells": [
  {
   "cell_type": "markdown",
   "id": "b4530b13",
   "metadata": {},
   "source": [
    "# Serial Models in Data Science - Assignment 1"
   ]
  },
  {
   "cell_type": "markdown",
   "id": "d7d9bcfa",
   "metadata": {},
   "source": [
    "### Part I - Bayesian Inference"
   ]
  },
  {
   "cell_type": "markdown",
   "id": "fd1dd888",
   "metadata": {},
   "source": [
    "<B>Students:<br/>Guy Shafir - 315941799 <br/>Tamar Entin - 210014411</B>"
   ]
  },
  {
   "cell_type": "markdown",
   "id": "a1af697d",
   "metadata": {},
   "source": [
    "### Table of Contents:"
   ]
  },
  {
   "cell_type": "markdown",
   "id": "f794ebdc",
   "metadata": {},
   "source": [
    "<a id=\"home\"></a>\n",
    "\n",
    "\n",
    "| Section| Topic |\n",
    "| :- | :- |\n",
    "| 1 |  [POISSON DISTRIBUTION](#POISSON_DISTRIBUTION) | \n",
    "| 2 |  [CONJUGATE PRIOR](#CONJUGATE_PRIOR) | \n",
    "| 3 |  [MARGINALIZING THE HYPER PARAMETERS](#MARGINALIZING) | \n",
    "| 4 |  [MAXIMUM LIKELIHOOD TYPE II](#MAXIMUM_LIKELIHOOD) | \n",
    "| 5 |  [PREDICTIVE POSTERIOR DISTRIBUTION](#POSTERIOR) | \n",
    "| 6 |  [MONTE-CARLO COMPUTATIONS](#MONTE_CARLO) | \n"
   ]
  },
  {
   "cell_type": "markdown",
   "id": "dc6c65f5",
   "metadata": {},
   "source": [
    "[Go to the beginning of the assignment](#home)\n",
    "<a id=\"POISSON_DISTRIBUTION\"></a><br/><br/>\n",
    "<u>POISSON DISTRIBUTION</u>"
   ]
  },
  {
   "cell_type": "markdown",
   "id": "5ee13238",
   "metadata": {},
   "source": [
    "The Poisson distribution is defined by the following expression for $X \\sim P(\\lambda)$:\n",
    "$$ P(X = k) = \\frac{e^{-\\lambda}\\lambda^k}{k!} $$"
   ]
  },
  {
   "cell_type": "markdown",
   "id": "9d265a1c",
   "metadata": {},
   "source": [
    "#### 1. Draw n = 100 samples from a Poisson distribution, using numpy.random.poisson(lam=5,size=100)"
   ]
  },
  {
   "cell_type": "code",
   "execution_count": 1,
   "id": "d37a9afc",
   "metadata": {},
   "outputs": [
    {
     "data": {
      "image/png": "[encoded data removed]",
      "text/plain": [
       "<Figure size 720x360 with 2 Axes>"
      ]
     },
     "metadata": {
      "needs_background": "light"
     },
     "output_type": "display_data"
    }
   ],
   "source": [
    "import numpy as np\n",
    "import seaborn as sns\n",
    "from matplotlib import pyplot as plt\n",
    "\n",
    "# Generate samples from Poisson distribution\n",
    "samples = np.random.poisson(lam=5, size=100)\n",
    "\n",
    "# Create histogram and density plot using seaborn\n",
    "fig, ax = plt.subplots(1,2, figsize=(10,5))\n",
    "sns.histplot(data=samples, ax=ax[0])\n",
    "sns.kdeplot(samples, ax=ax[1])\n",
    "\n",
    "\n",
    "# Set x-ticks\n",
    "x_ticks = np.arange(samples.min(), samples.max() + 1)\n",
    "ax[0].set_xticks(x_ticks)\n",
    "\n",
    "# Set titles and labels\n",
    "ax[0].set_title(f'Histogram')\n",
    "ax[0].set_xlabel('Value')\n",
    "ax[0].set_ylabel('Frequency')\n",
    "\n",
    "ax[1].set_title(f'Density Plot')\n",
    "ax[1].set_xlabel('Value')\n",
    "ax[1].set_ylabel('Density')\n",
    "\n",
    "\n",
    "plt.show()"
   ]
  },
  {
   "cell_type": "markdown",
   "id": "fd98bbc0",
   "metadata": {},
   "source": [
    "[Go to the beginning of the assignment](#home)\n",
    "<a id=\"CONJUGATE_PRIOR\"></a><br/><br/>\n",
    "<u>CONJUGATE PRIOR</u>"
   ]
  },
  {
   "cell_type": "markdown",
   "id": "e87697c2",
   "metadata": {},
   "source": [
    "Given $X_1,\\ldots,X_n \\overset{i.i.d.}{\\sim} \\text{Poisson}(\\lambda)$, one wants to define a conjugate prior for $\\lambda$."
   ]
  },
  {
   "cell_type": "markdown",
   "id": "3062d720",
   "metadata": {},
   "source": [
    "#### 1. Write the Poisson distribution as an exponential family."
   ]
  },
  {
   "cell_type": "markdown",
   "id": "8d2dd642",
   "metadata": {},
   "source": [
    "Given that we have $X_1, \\ldots, X_n \\overset{i.i.d.}{\\sim} \\text{Poisson}(\\lambda)$, we want to define a conjugate prior for $\\lambda$. \n",
    "\n",
    "To do this, we first write the Poisson distribution as an exponential family.\n",
    "\n",
    "The Poisson distribution can be written in the form of an exponential family as follows:\n",
    "\n",
    "$$\n",
    "f(x | \\lambda) = h(x) \\exp(\\eta(\\lambda) T(x) - A(\\lambda))\n",
    "$$\n",
    "\n",
    "For the Poisson distribution, we define the following parameters:\n",
    "\n",
    "- $h(x) = \\frac{1}{x!}$\n",
    "- $T(x) = x$\n",
    "- $\\eta(\\lambda) = \\ln(\\lambda)$\n",
    "- $A(\\lambda) = \\lambda$\n",
    "\n",
    "Now we can write the Poisson distribution as an exponential family:\n",
    "\n",
    "$$\n",
    "f(x|\\lambda) = h(x) \\exp(\\eta(\\lambda) T(x) - A(\\lambda)) = \\frac{1}{x!} \\exp(x \\ln(\\lambda) - \\lambda)\n",
    "$$\n"
   ]
  },
  {
   "cell_type": "markdown",
   "id": "29fb1a24",
   "metadata": {},
   "source": [
    "#### 2. Find the conjugate prior relying on the presentation as an exponential family."
   ]
  },
  {
   "cell_type": "markdown",
   "id": "91f84143",
   "metadata": {},
   "source": [
    "Given $X_1,\\ldots,X_n \\overset{i.i.d.}{\\sim} \\text{Poisson}(\\lambda)$, we want to find the conjugate prior for $\\lambda$ by relying on its presentation as an exponential family.\n",
    "\n",
    "The Poisson distribution can be written as an exponential family as follows:\n",
    "\n",
    "$$\n",
    "f(x|\\lambda) = \\frac{1}{x!} \\exp(x \\ln(\\lambda) - \\lambda)\n",
    "$$\n",
    "\n",
    "Here, we let $\\delta = \\ln(\\lambda)$ be the natural parameter. Now, let's find the conjugate prior based on the information from the presentation above. For simplicity and to ease the calculations in the next steps, we can use $\\alpha - 1$ instead of $\\alpha$.\n",
    "\n",
    "$$\n",
    "\\pi(\\delta|\\alpha,\\beta) \\propto \\exp((\\alpha-1)\\delta - \\beta e^{\\delta})\n",
    "$$\n",
    "\n",
    "Or, in terms of $\\lambda$:\n",
    "\n",
    "$$\n",
    "\\pi(\\lambda|\\alpha,\\beta) \\propto \\exp((\\alpha-1) \\ln(\\lambda) - \\beta \\lambda)\n",
    "$$\n",
    "\n"
   ]
  },
  {
   "cell_type": "markdown",
   "id": "ed18bb66",
   "metadata": {},
   "source": [
    "#### 3.Check that the prior you found is a Gamma distribution $\\Gamma(\\alpha, \\beta)$, defined by the following density function: $$\\pi(\\lambda|\\alpha,\\beta)=\\frac{\\beta^\\alpha}{\\Gamma(\\alpha)} \\lambda^{\\alpha-1}e^{-\\beta\\lambda}$$ with $\\alpha, \\beta > 0$. The Gamma function is defined by $$\\Gamma(z)=\\int_0^\\infty t^{z-1} e^{-t} dt$$ for any complex number $z$ with $\\Re(z) > 0$.\n"
   ]
  },
  {
   "cell_type": "markdown",
   "id": "69d0869a",
   "metadata": {},
   "source": [
    "To check that the given prior is a Gamma distribution, we need to compare it with the density function of the Gamma distribution, which is given by:\n",
    "\n",
    "$$\n",
    "\\pi(\\lambda|\\alpha,\\beta)=\\frac{\\beta^\\alpha}{\\Gamma(\\alpha)} \\lambda^{\\alpha-1}e^{-\\beta\\lambda}\n",
    "$$\n",
    "\n",
    "where $\\alpha, \\beta > 0$.\n",
    "\n",
    "We can see that the prior distribution found in answer 2, which is:\n",
    "\n",
    "$$\n",
    "\\pi(\\lambda|\\alpha,\\beta) \\propto \\lambda^{\\alpha-1} e^{-\\beta\\lambda}\n",
    "$$\n",
    "\n",
    "has the same form as the density function of the Gamma distribution, except for the normalization constant. To show that the prior distribution is indeed a Gamma distribution, we need to find the normalization constant that makes the proportionality sign an equality.\n",
    "\n",
    "We start by computing the integral:\n",
    "\n",
    "$$\n",
    "\\int_{0}^{\\infty} \\lambda^{\\alpha-1} e^{-\\beta\\lambda} d\\lambda\n",
    "$$\n",
    "\n",
    "We can use the substitution $t = \\beta\\lambda$ and $d\\lambda = dt/\\beta$ to rewrite the integral as:\n",
    "\n",
    "$$\n",
    "\\int_{0}^{\\infty} \\left(\\frac{t}{\\beta}\\right)^{\\alpha-1} e^{-t} \\frac{1}{\\beta} dt = \\frac{1}{\\beta^\\alpha} \\int_{0}^{\\infty} t^{\\alpha-1} e^{-t} dt = \\frac{\\Gamma(\\alpha)}{\\beta^\\alpha}\n",
    "$$\n",
    "\n",
    "where we have used the definition of the Gamma function.\n",
    "\n",
    "Now, we can write the prior distribution as:\n",
    "\n",
    "$$\n",
    "\\pi\\left( \\lambda|\\alpha,\\beta \\right)=\n",
    "\\frac{\\lambda^{\\alpha-1}e^{-\\beta\\lambda}}\n",
    "{\\int_{0}^{\\infty}\\lambda^{\\alpha-1}e^{-\\beta\\lambda}d\\lambda}\n",
    "=\\frac{\\beta^{\\alpha}}{\\Gamma\\left( \\alpha \\right)}\\lambda^{\\alpha-1}e^{-\\beta\\lambda}\n",
    "$$\n",
    "\n",
    "\n",
    "which confirms that the given prior distribution is a Gamma distribution $\\Gamma(\\alpha, \\beta)$."
   ]
  },
  {
   "cell_type": "markdown",
   "id": "f8fa67dd",
   "metadata": {},
   "source": [
    "#### 4. Write the posterior distribution of λ as a function of X and the hyperparameters α, β."
   ]
  },
  {
   "cell_type": "markdown",
   "id": "d4c06319",
   "metadata": {},
   "source": [
    "Let $s = \\sum_{i=1}^{n}X_i$\n",
    "\n",
    "The posterior distribution of $\\lambda$ can be derived as follows:\n",
    "\n",
    "\\begin{align}\n",
    "f(\\lambda | X_1,...,X_n,\\alpha,\\beta) &\\propto f(X_1,...,X_n | \\lambda)\\pi(\\lambda | \\alpha,\\beta) \\\\\n",
    "&\\propto \\left(\\prod_{i=1}^{n} e^{-\\lambda}\\lambda^{X_i}\\right)\\lambda^{\\alpha-1}e^{-\\beta\\lambda} \\\\\n",
    "&= \\lambda^{\\sum_{i=1}^{n}X_i+\\alpha-1} e^{-(\\beta+n)\\lambda} \\\\\n",
    "&= \\lambda^{s+\\alpha-1} e^{-(\\beta+n)\\lambda}\n",
    "\\end{align}\n",
    "\n",
    "We know that $\\lambda^{\\alpha-1}e^{-\\beta\\lambda}$ is a Gamma distribution $\\Gamma(\\alpha,\\beta)$. Using this information, we can infer that the posterior distribution is $\\Gamma(s+\\alpha, \\beta+n)$:\n",
    "\n",
    "\\begin{align}\n",
    "f(\\lambda | X,\\alpha,\\beta) &= \\frac{(\\beta+n)^{s+\\alpha}}{\\Gamma(s+\\alpha)}\\lambda^{s+\\alpha-1}e^{-(\\beta+n)\\lambda}\n",
    "\\end{align}\n"
   ]
  },
  {
   "cell_type": "markdown",
   "id": "390b6d1d",
   "metadata": {},
   "source": [
    "[Go to the beginning of the assignment](#home)\n",
    "<a id=\"MARGINALIZING\"></a><br/><br/>\n",
    "<u>MARGINALIZING THE HYPER PARAMETERS</u>\n"
   ]
  },
  {
   "cell_type": "markdown",
   "id": "419b01a7",
   "metadata": {},
   "source": [
    "In this section, we want to compute the posterior distribution of $\\lambda$ with no hyperparameters. For this purpose, we write:\n",
    "$$\n",
    "f(\\lambda \\mid X) = \\int \\int f(\\lambda, \\alpha, \\beta \\mid X) \\, d\\alpha \\, d\\beta = \\int \\int f(\\lambda \\mid X, \\alpha, \\beta) \\pi_{\\alpha, \\beta}(\\alpha, \\beta) \\, d\\alpha \\, d\\beta. \\hspace{0.2cm} (3.1)\n",
    "$$"
   ]
  },
  {
   "cell_type": "markdown",
   "id": "bd01007c",
   "metadata": {},
   "source": [
    "#### 1. Prove the Fisher information matrix of the Gamma distribution Γ(α,β) is\n",
    "\\begin{equation}\n",
    "I(\\alpha, \\beta) =\n",
    "\\begin{bmatrix}\n",
    "  \\psi'(\\alpha) & -\\frac{1}{\\beta} \\\\\n",
    "  -\\frac{1}{\\beta} & \\frac{\\alpha}{\\beta^2}\n",
    "\\end{bmatrix}\n",
    "\\end{equation}\n",
    "\n",
    "\n",
    "#### where $\\psi(x) = \\frac{d}{dx} \\ln(\\Gamma(x))$ is the digamma function."
   ]
  },
  {
   "cell_type": "markdown",
   "id": "74b180bb",
   "metadata": {},
   "source": [
    "To compute the Fisher information matrix of the Gamma distribution $\\Gamma(\\alpha, \\beta)$, we first need to compute the score functions for $\\alpha$ and $\\beta$, and then compute the expectation of the products of these score functions.\n",
    "\n",
    "The likelihood function of the Gamma distribution is given by:\n",
    "\n",
    "$$\n",
    "L(\\alpha, \\beta) = \\frac{\\beta^\\alpha}{\\Gamma(\\alpha)} \\lambda^{\\alpha-1} e^{-\\beta \\lambda}\n",
    "$$\n",
    "\n",
    "Taking the log-likelihood:\n",
    "\n",
    "$$\n",
    "\\ell(\\alpha, \\beta) = \\alpha \\ln(\\beta) - \\ln(\\Gamma(\\alpha)) + (\\alpha - 1)\\ln(\\lambda) - \\beta \\lambda\n",
    "$$\n",
    "\n",
    "\n",
    "Now, we can compute the first derivatives with respect to $\\alpha$ and $\\beta$:\n",
    "\n",
    "$$\n",
    "\\frac{\\partial \\ell}{\\partial \\alpha} =  \\ln \\beta - \\frac{d}{d\\alpha} \\ln \\Gamma(\\alpha) + \\ln \\lambda = \\ln(\\beta) - \\psi(\\alpha) + \\ln(\\lambda)\n",
    "$$\n",
    "\n",
    "$$\n",
    "\\frac{\\partial \\ell}{\\partial \\beta} = \\frac{\\alpha}{\\beta} - \\lambda\n",
    "$$\n",
    "\n",
    "The Fisher information matrix has the following components:\n",
    "\n",
    "$$\n",
    "I(\\alpha, \\beta)_{ij} = E \\left[-\\frac{\\partial^2 \\ell}{\\partial \\theta_i \\partial \\theta_j} \\right]\n",
    "$$\n",
    "\n",
    "Taking the second derivatives:\n",
    "\n",
    "$$\n",
    "\\frac{\\partial^2 \\ell}{\\partial \\alpha^2} = -\\psi'(\\alpha)\n",
    "$$\n",
    "\n",
    "\n",
    "$$\n",
    "\\frac{\\partial^2 \\ell}{\\partial \\alpha \\partial \\beta} = \\frac{\\partial^2 \\ell}{\\partial \\beta \\partial \\alpha} = -\\frac{1}{\\beta}\n",
    "$$\n",
    "\n",
    "$$\n",
    "\\frac{\\partial^2 \\ell}{\\partial \\beta^2} = -\\frac{\\alpha}{\\beta^2}\n",
    "$$\n",
    "\n",
    "\n",
    "So the Fisher information matrix is:\n",
    "\n",
    "$$\n",
    "I(\\alpha, \\beta) =\n",
    "\\begin{bmatrix}\n",
    "  \\psi'(\\alpha) & -\\frac{1}{\\beta} \\\\\n",
    "  -\\frac{1}{\\beta} & \\frac{\\alpha}{\\beta^2}\n",
    "\\end{bmatrix}\n",
    "$$"
   ]
  },
  {
   "cell_type": "markdown",
   "id": "88429e70",
   "metadata": {},
   "source": [
    "#### 2. Compute the Jeffrey's prior for (α,β)."
   ]
  },
  {
   "cell_type": "markdown",
   "id": "b800f9ff",
   "metadata": {},
   "source": [
    "Given the Fisher information matrix of the Gamma distribution Γ(α, β):\n",
    "\n",
    "\\begin{equation}\n",
    "I(\\alpha, \\beta) =\n",
    "\\begin{bmatrix}\n",
    "  \\psi'(\\alpha) & -\\frac{1}{\\beta} \\\\\n",
    "  -\\frac{1}{\\beta} & \\frac{\\alpha}{\\beta^2}\n",
    "\\end{bmatrix}\n",
    "\\end{equation}\n",
    "\n",
    "\n",
    "The determinant of the Fisher information matrix can be calculated as follows:\n",
    "\n",
    "\\begin{equation}\n",
    "\\det I(\\alpha, \\beta) = \\psi'(\\alpha) \\cdot \\frac{\\alpha}{\\beta^2} - \\left(-\\frac{1}{\\beta}\\right)^2\n",
    "\\end{equation}\n",
    "\n",
    "Now, we can compute the Jeffrey's prior for (α, β) by taking the square root of the determinant:\n",
    "\n",
    "\\begin{equation}\n",
    "\\pi_J(\\alpha, \\beta) \\propto \\sqrt{\\det I(\\alpha, \\beta)} = \\sqrt{\\frac{\\alpha \\psi'(\\alpha)}{\\beta^2} - \\frac{1}{\\beta^2}} = \\frac{1}{\\beta}\\sqrt{\\alpha\\psi'(\\alpha) -1}\n",
    "\\end{equation}\n"
   ]
  },
  {
   "cell_type": "markdown",
   "id": "1ed95fc3",
   "metadata": {},
   "source": [
    "#### 3. Write explicitly the integral (3.1)"
   ]
  },
  {
   "cell_type": "markdown",
   "id": "f2161d99",
   "metadata": {},
   "source": [
    "$$\\quad f(\\lambda/ X)=\n",
    "\\int\\int f(\\lambda,\\alpha,\\beta/X)d\\alpha d\\beta=\n",
    "\\int\\int f(\\lambda/\\alpha,\\beta,X)\\pi(\\alpha, \\beta)d\\alpha d\\beta=\n",
    "\\int\\int\\frac{(\\beta+n)^{s+\\alpha}}{\\Gamma(s+\\alpha)}\n",
    "\\lambda^{s+\\alpha-1}e^{-(\\beta+n)\\lambda}\\frac{1}{\\beta}\\sqrt{\\psi'(\\alpha)\\alpha-1}d\\alpha d\\beta$$\n",
    "\n",
    "where $s = \\sum_{i=1}^{n} X_i$. \n"
   ]
  },
  {
   "cell_type": "markdown",
   "id": "ef37056a",
   "metadata": {},
   "source": [
    "The goal is to compute the posterior distribution of $\\lambda$ without hyperparameters, which can be represented as:\n",
    "\n",
    "$$\n",
    "f(\\lambda \\mid X) = \\int \\int f(\\lambda \\mid X, \\alpha, \\beta) \\pi_J(\\alpha, \\beta) \\, d\\alpha \\, d\\beta\n",
    "$$\n",
    "\n",
    "To do this, we will integrate over the hyperparameters $\\alpha$ and $\\beta$. We are given the Fisher information matrix of the Gamma distribution and the Jeffrey's prior for $(\\alpha, \\beta)$. Now, we can substitute the given expressions into the integral:\n",
    "\n",
    "$$\n",
    "f(\\lambda \\mid X) = \\int \\int f(\\lambda \\mid X, \\alpha, \\beta) \\frac{1}{\\beta}\\sqrt{\\alpha\\psi'(\\alpha) -1} \\, d\\alpha \\, d\\beta\n",
    "$$\n",
    "\n",
    "We are also given the expression for the likelihood in terms of $\\lambda, \\alpha, \\beta$ and $X$:\n",
    "\n",
    "$$\n",
    "f(\\lambda \\mid \\alpha, \\beta, X) = \\frac{(\\beta + n)^{s + \\alpha}}{\\Gamma(s + \\alpha)} \\lambda^{s + \\alpha - 1} e^{-(\\beta + n) \\lambda},\n",
    "$$\n",
    "\n",
    "Now, we can substitute this expression for the likelihood into the integral to obtain the explicit representation of the integral (3.1) as:\n",
    "\n",
    "$$\n",
    "f(\\lambda \\mid X) = \\int \\int f(\\lambda \\mid X, \\alpha, \\beta) \\pi_J(\\alpha, \\beta) \\, d\\alpha \\, d\\beta = \\int \\int \\frac{(\\beta + n)^{s + \\alpha}}{\\Gamma(s + \\alpha)} \\lambda^{s + \\alpha - 1} e^{-(\\beta + n) \\lambda} \\frac{1}{\\beta}\\sqrt{\\alpha\\psi'(\\alpha) -1} \\, d\\alpha \\, d\\beta\n",
    "$$\n"
   ]
  },
  {
   "cell_type": "markdown",
   "id": "ef843911",
   "metadata": {},
   "source": [
    "[Go to the beginning of the assignment](#home)\n",
    "<a id=\"MAXIMUM_LIKELIHOOD\"></a><br/><br/>\n",
    "<u>MAXIMUM LIKELIHOOD TYPE II</u>\n"
   ]
  },
  {
   "cell_type": "markdown",
   "id": "47612c91",
   "metadata": {},
   "source": [
    "In this section, we will compute an estimate of α and β by maximum likelihood estimation.\n"
   ]
  },
  {
   "cell_type": "markdown",
   "id": "b2819255",
   "metadata": {},
   "source": [
    "#### 1. Compute the likelihood of α and β, that is $f(X|\\alpha,\\beta)$ by marginalization with respect to $\\lambda$"
   ]
  },
  {
   "cell_type": "markdown",
   "id": "ae4faf6c",
   "metadata": {},
   "source": [
    "Starting with the integral expression:\n",
    "\n",
    "$$\n",
    "f(X|\\alpha,\\beta)=\n",
    "\\int_{0}^{\\infty}f(X,\\lambda|\\alpha,\\beta)d\\lambda=\n",
    "\\int_{0}^{\\infty}f(X|\\lambda)\\pi(\\lambda|\\alpha,\\beta)d\\lambda\n",
    "$$\n",
    "\n",
    "Next, we substitute the Poisson likelihood function and Gamma prior:\n",
    "\n",
    "$$\n",
    "=\\int_{0}^{\\infty}\\lambda^{s}e^{-n\\lambda}\\prod_{1}^{n}\\frac{1}{X_{i}!}\\cdot \n",
    "\\frac{\\beta^{\\alpha}}{\\Gamma(\\alpha)}\\lambda^{\\alpha-1}e^{-\\beta\\lambda}d\\lambda\n",
    "$$\n",
    "\n",
    "Now, combine the exponential terms and lambda terms:\n",
    "\n",
    "$$\n",
    "=\\frac{\\beta^{\\alpha}}{\\Gamma(\\alpha)}\\prod_{1}^{n}\\frac{1}{X_{i}!}\\int_{0}^{\\infty}\\lambda^{s+\\alpha-1}e^{-(n+\\beta)\\lambda}d\\lambda\n",
    "$$\n",
    "\n",
    "Recognize that the integral term is the definition of the Gamma function:\n",
    "\n",
    "$$\n",
    "=\\frac{\\beta^{\\alpha}}{\\Gamma(\\alpha)}\\prod_{1}^{n}\\frac{1}{X_{i}!}\n",
    "\\int_{0}^{\\infty}\\lambda^{s+\\alpha-1}e^{-(n+\\beta)\\lambda}\\frac{1}{n+\\beta}d((n+\\beta)\\lambda)\n",
    "$$\n",
    "\n",
    "Use the change of variable $t = (n+\\beta)\\lambda$:\n",
    "\n",
    "$$\n",
    "=\\frac{\\beta^{\\alpha}}{\\Gamma(\\alpha)}\\frac{1}{(n+\\beta)^{\\alpha+s}}\\prod_{1}^{n}\\frac{1}{X_{i}!}\n",
    "\\int_{0}^{\\infty}t^{s+\\alpha-1}e^{-t}dt\n",
    "$$\n",
    "\n",
    "Finally, use the definition of the Gamma function:\n",
    "\n",
    "$$\n",
    "=\\frac{\\beta^{\\alpha}}{\\Gamma(\\alpha)}\\frac{\\Gamma(\\alpha+s)}{(n+\\beta)^{\\alpha+s}}\\prod_{1}^{n}\\frac{1}{X_{i}!}=\n",
    "\\frac{\\beta^{\\alpha}}{(n+\\beta)^{\\alpha+s}}\\prod_{i=0}^{s-1}(\\alpha+i)\\prod_{i=1}^{n}\\frac{1}{X_{i}!}\n",
    "$$"
   ]
  },
  {
   "cell_type": "markdown",
   "id": "9ca08756",
   "metadata": {},
   "source": [
    "#### 2. Find $\\alpha^*$, $\\beta^* = \\arg \\max_{\\alpha, \\beta} f(X|\\alpha, \\beta)$. For this purpose, show that $\\beta^* = \\frac{n}{s}\\alpha^*$, where $s = \\sum_{i=1}^n X_i$, and that $\\alpha^*$ is a solution of:\n",
    "\n",
    "$$\n",
    "\\ln \\left(\\frac{\\alpha^*}{\\alpha^* + s} \\right) + \\sum_{j=0}^{s-1} \\frac{1}{\\alpha^* + j} = 0, \\quad (4.1)\n",
    "$$\n",
    "\n",
    "#### where $s = \\sum_{i=1}^n X_i \\in \\mathbb{N}$.\n",
    "\n",
    "#### Hint: In your computation, you will have to use that $\\Gamma(z+1) = z\\Gamma(z)$.\n",
    "\n",
    "#### Considering the function $\\phi(\\alpha) = \\ln \\left(\\frac{\\alpha}{\\alpha+s} \\right) + \\sum_{j=0}^{s-1} \\frac{1}{\\alpha+j}$, show that actually $\\alpha^* = +\\infty$.\n",
    "\n",
    "#### Therefore, in the sequel, we shall take $\\alpha^* = 1000$ and $\\beta^* = \\frac{n}{s}1000$.\n"
   ]
  },
  {
   "cell_type": "markdown",
   "id": "ffa95f9a",
   "metadata": {},
   "source": [
    "We want to find the maximum likelihood estimates $\\alpha^*$ and $\\beta^*$:\n",
    "$$\n",
    "\\alpha^{*},\\beta^{*}=\\underset{\\alpha,\\beta}{\\operatorname{argmax}}f(X|\\alpha,\\beta)=\\underset{\\alpha,\\beta}{\\operatorname{argmax}}\\ ln(f(X|\\alpha,\\beta))\n",
    "$$\n",
    "\n",
    "Start by taking the logarithm of the likelihood function:\n",
    "$$\n",
    "\\ln(f(X|\\alpha,\\beta))=\\alpha \\ln\\beta-(\\alpha+s)\\ln(n+\\beta)+\\sum_{i=0}^{s-1}\\ln(\\alpha+i)+\\ln\\Big( \\prod_{1}^{n}\\frac{1}{X_{i}!} \\Big)\n",
    "$$\n",
    "\n",
    "Now, take the partial derivatives with respect to $\\alpha$ and $\\beta$ and set them to zero:\n",
    "\n",
    "Partial derivative with respect to $\\beta$:\n",
    "$$\n",
    "\\frac{\\partial \\ln(f(X|\\alpha,\\beta))}{\\partial\\beta}=\\frac{\\alpha}{\\beta}-\\frac{\\alpha+s}{n+\\beta}=0\\to\n",
    "\\alpha(n+\\beta)=\\beta(\\alpha+s)\\to\\alpha n+\\beta\\alpha=\\beta\\alpha +s\\beta\\to\\beta^{*}=\\frac{n}{s}\\alpha^{*}\n",
    "$$\n",
    "\n",
    "Partial derivative with respect to $\\alpha$:\n",
    "$$\n",
    "\\frac{\\partial \\ln(f(X|\\alpha,\\beta))}{\\partial\\alpha}=\n",
    "\\ln(\\beta)-\\ln(n+\\beta)+\\sum_{i=0}^{s-1}\\frac{1}{\\alpha+i}=\n",
    "\\ln\\Big( \\frac{\\beta}{n+\\beta} \\Big)+\\sum_{i=0}^{s-1}\\frac{1}{\\alpha+i}\n",
    "$$\n",
    "\n",
    "Set the partial derivative equal to zero and rewrite the equation:\n",
    "$$\n",
    "\\ln\\Big( \\frac{\\alpha^{*}}{s+\\alpha^{*}} \\Big)+\\sum_{i=0}^{s-1}\\frac{1}{\\alpha^{*}+i}=0\n",
    "$$\n",
    "\n",
    "Plot the function $\\phi(\\alpha)$, defined as:\n",
    "$$\n",
    "\\phi(\\alpha) = \\ln\\Big( \\frac{\\alpha}{s+\\alpha} \\Big) + \\sum_{i=0}^{s-1}\\frac{1}{\\alpha+i}\n",
    "$$\n"
   ]
  },
  {
   "cell_type": "code",
   "execution_count": 2,
   "id": "7b59e116",
   "metadata": {},
   "outputs": [
    {
     "data": {
      "text/plain": [
       "Text(0, 0.5, 'Phi')"
      ]
     },
     "execution_count": 2,
     "metadata": {},
     "output_type": "execute_result"
    },
    {
     "data": {
      "image/png": "[encoded data removed]",
      "text/plain": [
       "<Figure size 432x288 with 1 Axes>"
      ]
     },
     "metadata": {
      "needs_background": "light"
     },
     "output_type": "display_data"
    }
   ],
   "source": [
    "alpha = np.linspace(1, 500, 1000)\n",
    "samples_sum = np.sum(samples)\n",
    "\n",
    "# calculate phi function values\n",
    "phi = []\n",
    "rand_arr = np.arange(0, samples_sum)\n",
    "for a in alpha:\n",
    "    phi.append(\n",
    "        np.log(a/(samples_sum+a))+np.sum(1/(rand_arr + a))\n",
    "    )\n",
    "# plot the function\n",
    "plt.plot(alpha, phi)\n",
    "plt.xlabel(\"alpha\")\n",
    "plt.ylabel(\"Phi\")"
   ]
  },
  {
   "cell_type": "markdown",
   "id": "1e90e5a2",
   "metadata": {},
   "source": [
    "As we can see from the graph, $\\phi(\\alpha)>0$ and the limit as $\\alpha \\to \\infty$ is:\n",
    "\n",
    "$$\n",
    "\\lim_{\\alpha \\to \\infty}\\phi(\\alpha)=\\lim_{\\alpha \\to \\infty}\\Big( \\ln\\Big( \\frac{\\alpha}{s+\\alpha} \\Big) + \\sum_{i=0}^{s-1}\\frac{1}{\\alpha+i}\\Big)=\\ln(1)+0=0\n",
    "$$\n",
    "\n",
    "This limit suggests that we can choose a large value for $\\alpha^*$ as an approximation. \n",
    "\n",
    "In this case, we take $\\alpha^*=1000$ and $\\beta^*=\\frac{n}{s}\\alpha^*$. "
   ]
  },
  {
   "cell_type": "markdown",
   "id": "2e3cc74a",
   "metadata": {},
   "source": [
    "[Go to the beginning of the assignment](#home)\n",
    "<a id=\"POSTERIOR\"></a><br/><br/>\n",
    "<u>PREDICTIVE POSTERIOR DISTRIBUTION</u>\n"
   ]
  },
  {
   "cell_type": "markdown",
   "id": "c7d55141",
   "metadata": {},
   "source": [
    "#### Compute the Predictive Posterior Distribution computed with the estimated values of α and β that is with $\\alpha^*$ and $\\beta^*$:\n",
    "\\begin{equation}\n",
    "f(x|X) = \\int f(x, \\lambda|X) d\\lambda = \\int f(x|\\lambda) f(\\lambda|X) d\\lambda = \\int f(x|\\lambda) f(\\lambda|X, \\alpha^*, \\beta^*) d\\lambda\n",
    "\\end{equation}"
   ]
  },
  {
   "cell_type": "markdown",
   "id": "68aecbb1",
   "metadata": {},
   "source": [
    "$$f(X|X)=\\int f(x,\\lambda|X)d\\lambda =\n",
    "\\int f (x|\\lambda)f (\\lambda/X)dλ =\n",
    "\\int f(x|\\lambda)f(\\lambda|X,\\alpha^{*}, \\beta^{*})dλ=$$\n",
    "\n",
    "$$=\\int_{0}^{\\infty}\\frac{1}{x!}e^{-\\lambda}\\lambda^{x}\\cdot\\frac{(\\beta^{*}+n)^{s+\\alpha^{*}}}{\\Gamma\\left( s+\\alpha^{*}\\right)}\\lambda^{s+\\alpha^{*}-1}e^{-(\\beta^{*}+n)\\lambda}d\\lambda=\n",
    "\\frac{(\\beta^{*}+n)^{s+\\alpha^{*}}}{x!\\Gamma\\left(s+\\alpha^{*}\\right)}\n",
    "\\int_{0}^{\\infty}\\lambda^{s+x+\\alpha^{*}-1}e^{-(\\beta^{*}+n+1)\\lambda}d\\lambda=$$\n",
    "\n",
    "$$=\\frac{1}{x!}\\frac{(1000\\frac{n}{s}+n)^{s+1000}}{(1000\\frac{n}{s}+n+1)^{s+x+1000}}\\prod_{i=0}^{x-1}(s+1000+i)=\n",
    "\\frac{1}{x!}\\frac{s^{x}(1000n+ns)^{s+1000}}{(1000n+ns+s)^{s+x+1000}}\\prod_{i=0}^{x-1}(s+1000+i)$$"
   ]
  },
  {
   "cell_type": "markdown",
   "id": "02480d37",
   "metadata": {},
   "source": [
    "[Go to the beginning of the assignment](#home)\n",
    "<a id=\"MONTE_CARLO\"></a><br/><br/>\n",
    "<u>MONTE-CARLO COMPUTATIONS</u>\n"
   ]
  },
  {
   "cell_type": "markdown",
   "id": "3ae54c0f",
   "metadata": {},
   "source": [
    "#### We want to compute the expectation of this distribution:\n",
    "$$ \\mu = E(x) = \\int x f(x|\\lambda)f(\\lambda|X,\\alpha^*,\\beta^*)d\\lambda dx $$,\n",
    "\n",
    "#### which represents a good prediction of the value of $x$ given the observations $X_1,\\dots,X_n$.\n",
    "\n",
    "#### Since we also want an estimate of the uncertainty, we shall also compute the variance of it:\n",
    "$$\n",
    "\\sigma^2 = Var(x) = \\int (x - \\mu)^2 f(x|\\lambda)f(\\lambda|X,\\alpha^*,\\beta^*)d\\lambda dx.\n",
    "$$\n",
    "\n",
    " #### In order to compute these two integrals, we shall use a Monte-Carlo approach.\n",
    "\n",
    "#### Implement the MC algorithm and compute the estimations of both $\\mu$ and $\\sigma^2$.\n"
   ]
  },
  {
   "cell_type": "markdown",
   "id": "f0e4f3ce",
   "metadata": {},
   "source": [
    "We want to compute the expectation and variance of the distribution:\n",
    "\n",
    "$$ \\mu = E(x) = \\int x f(x|\\lambda)f(\\lambda|X,\\alpha^*,\\beta^*)d\\lambda dx $$\n",
    "\n",
    "which represents a good prediction of the value of $x$ given the observations $X_1,\\dots,X_n$.\n",
    "\n",
    "First, we simplify the integral expression for the expectation:\n",
    "\n",
    "$$\\mathrm{E}[g(x)]=\\int g(x)f(x/X)dx=\\int\\frac{g(x)}{x!}\\Big(\\frac{s}{1000n+sn+s}\\Big)^x\n",
    "\\cdot\\Big(\\frac{1000n+ns}{1000n+sn+s}\\Big)^{s+1000}\\prod_{i=0}^{x-1}(s+1000+i)dx=\\Big(\\frac{1000n+ns}{1000n+sn+s}\\Big)^{s+1000}\\int\\frac{g(x)}{x!}\\Big(\\frac{s}{1000n+sn+s}\\Big)^x\\prod_{i=0}^{x-1}(s+1000+i)\n",
    "dx$$\n",
    "\n",
    "We can reparameterize the integral for easier interpretation:\n",
    "\n",
    "$$t=s+1000\\quad\\omega=\\Big(\\frac{tn}{tn+s}\\Big)^t\\quad\\theta=\\frac{s}{tn+s}$$\n",
    "\n",
    "The integral becomes:\n",
    "\n",
    "$$\\Big(\\frac{tn}{tn+s}\\Big)^{t}\\int\\frac{g(x)}{x!}\\Big(\\frac{s}{tn+s}\\Big)^x\\prod_{i=0}^{x-1}(t+i)\n",
    "dx=\\omega\\int\\frac{g(x)}{x!}\\theta^x\\prod_{i=0}^{x-1}(t+i)\n",
    "dx=\\omega\\int g(x)\\prod_{j=0}^{x-1}\\frac{\\theta(t+j)}{i+j}dx=\\omega\\int_{a}^{b} g(x)p(x)\n",
    "dx$$\n",
    "\n",
    "where\n",
    "\n",
    "$$p(x) = \\prod_{j=0}^{x-1}\\frac{\\theta(t+j)}{j+1}$$\n",
    "\n",
    "\n",
    "Monte-Carlo Integration\n",
    "$\\int_{a}^{b}f(x)dx\\sim\\frac{b-a}{N}\\sum_{i=1}^{N}f(x_i)$ :\n",
    "\n",
    "\n",
    "$$\\omega\\int_{a}^{b} g(x)p(x)\n",
    "dx\\sim\\frac{\\omega(b-a)}{N}\\sum_{i=1}^{N}g(x_i)p(x_i)$$\n",
    "\n",
    "Now we can approximate the expectation and variance using Monte-Carlo integration:\n",
    "\n",
    "$$\\mu\\sim\\frac{\\omega(b-a)}{N}\\sum_{i=1}^{N}x_ip(x_i)$$\n",
    "\n",
    "$$\\sigma^2\\sim\\frac{\\omega(b-a)}{N}\\sum_{i=1}^{N}(x_i-\\mu)^2p(x_i)$$\n",
    "\n",
    "In order to compute these two integrals, we shall use a Monte-Carlo approach."
   ]
  },
  {
   "cell_type": "code",
   "execution_count": 3,
   "id": "200fdf0e",
   "metadata": {},
   "outputs": [],
   "source": [
    "class MonteCarlo:\n",
    "    def __init__(self, X):\n",
    "        # Compute values for alpha* and beta*\n",
    "        s = np.sum(X)\n",
    "        n = len(X)\n",
    "        alpha_star = 1000\n",
    "        beta_star = 1000 * n / s\n",
    "        \n",
    "        # Compute parameters for Monte Carlo integration\n",
    "        self.t = 1000 + s\n",
    "        self.theta = s / (self.t * n + s)\n",
    "        self.omega = ((self.t * n) / (self.t * n + s)) ** self.t\n",
    "    \n",
    "    def compute_p(self, x):\n",
    "        # Compute the product term in the integral\n",
    "        res = 1\n",
    "        for j in range(0, x):\n",
    "            res *= (self.theta * (self.t + j) / (j + 1))\n",
    "        return res\n",
    "   \n",
    "    def integration(self, g, a, b):\n",
    "        # Perform Monte Carlo integration\n",
    "        x = range(a, b)\n",
    "        N = len(x)\n",
    "        res = 0\n",
    "        for xi in x:\n",
    "            res += g(xi)*self.compute_p(xi)\n",
    "        return self.omega * ((b - a) / N) * res "
   ]
  },
  {
   "cell_type": "code",
   "execution_count": 5,
   "id": "bc591706",
   "metadata": {},
   "outputs": [
    {
     "name": "stdout",
     "output_type": "stream",
     "text": [
      "mu is 4.829999999999741\n",
      "sigma square is: 4.845730883344316\n"
     ]
    }
   ],
   "source": [
    "mc = MonteCarlo(samples)\n",
    "mu = mc.integration(lambda x: x, 0, 1000)\n",
    "sigma_square = mc.integration(lambda x: (x-mu)**2, 0, 1000)\n",
    "\n",
    "print(\"mu is {}\".format(mu))\n",
    "print(\"sigma square is: {}\".format(sigma_square))"
   ]
  }
 ],
 "metadata": {
  "kernelspec": {
   "display_name": "Python 3",
   "language": "python",
   "name": "python3"
  },
  "language_info": {
   "codemirror_mode": {
    "name": "ipython",
    "version": 3
   },
   "file_extension": ".py",
   "mimetype": "text/x-python",
   "name": "python",
   "nbconvert_exporter": "python",
   "pygments_lexer": "ipython3",
   "version": "3.8.8"
  }
 },
 "nbformat": 4,
 "nbformat_minor": 5
}
